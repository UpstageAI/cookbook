{
"cells": [
{
"cell_type": "markdown",
"metadata": {},
"source": [
"# Hello Solar \n",
"\n",
"<a target=\"_blank\" href=\"https://colab.research.google.com/github/UpstageAI/cookbook/blob/main/Solar-LLM-ZeroToAll/01_hello_solar.ipynb\\"\n">,
"  <img src=\"https://colab.research.google.com/assets/colab-badge.svg\\" alt=\"Open In Colab\"/>\n",
"</a>\n",
"\n",
]
}
{
 "cells": [
  {
   "cell_type": "code",
   "execution_count": 1,
   "metadata": {},
   "outputs": [],
   "source": [
    "! pip3 install -qU langchain-upstage  requests python-dotenv"
   ]
  },
  {
   "cell_type": "markdown",
   "metadata": {},
   "source": [
    "## UPSTAGE_API_KEY\n",
    "To obtain your Upstage API key, follow these steps:\n",
    "\n",
    "1. Visit the Upstage AI console at <https://console.upstage.ai>.\n",
    "2. Sign up for an account if you don't already have one.\n",
    "3. Log in to your account.\n",
    "4. Navigate to the API key section.\n",
    "5. Generate your API key.\n",
    "6. Copy the key and save it securely.\n",
    "\n",
    "![Console](./figures/console.upstage.ai.jpg)"
   ]
  },
  {
   "cell_type": "code",
   "execution_count": 2,
   "metadata": {},
   "outputs": [],
   "source": [
    "\n",
    "%load_ext dotenv\n",
    "%dotenv\n",
    "# set UPSTAGE_API_KEY in .env file\n",
    "# UPSTAGE_API_KEY=your_api_key"
   ]
  },
  {
   "cell_type": "code",
   "execution_count": 3,
   "metadata": {},
   "outputs": [],
   "source": [
    "import warnings\n",
    "\n",
    "warnings.filterwarnings(\"ignore\")"
   ]
  },
  {
   "cell_type": "code",
   "execution_count": 4,
   "metadata": {},
   "outputs": [
    {
     "name": "stdout",
     "output_type": "stream",
     "text": [
      "('In a galaxy far, far away, there was a planet called Zephyria. It was a '\n",
      " 'beautiful place, with lush forests, crystal clear rivers, and majestic '\n",
      " 'mountains. The people of Zephyria were known for their kindness and wisdom. '\n",
      " 'They lived in harmony with nature and each other.\\n'\n",
      " '\\n'\n",
      " 'One day, a young girl named Lyra was exploring the forest when she stumbled '\n",
      " 'upon an ancient temple hidden behind a waterfall. Curiosity got the better '\n",
      " 'of her, and she decided to enter the temple. As she stepped inside, she '\n",
      " 'noticed that the walls were covered in strange symbols and carvings. '\n",
      " 'Suddenly, a voice echoed through the temple, \"Greetings, Lyra. You have been '\n",
      " 'chosen to embark on a great journey.\"\\n'\n",
      " '\\n'\n",
      " 'Lyra was confused but excited. She had always dreamed of adventure. The '\n",
      " 'voice continued, \"You must gather the four elements - fire, water, earth, '\n",
      " 'and air - to save your planet from an impending doom.\"\\n'\n",
      " '\\n'\n",
      " \"Lyra knew that she couldn't do this alone. She sought out the help of her \"\n",
      " 'best friend, Kai, a skilled warrior, and Luna, a wise old woman who knew the '\n",
      " 'secrets of the universe. Together, they set off on their quest.\\n'\n",
      " '\\n'\n",
      " 'Their first stop was the volcano, where they sought the element of fire. '\n",
      " \"They battled fierce dragons and lava monsters, but with Kai's bravery and \"\n",
      " \"Lyra's quick thinking, they managed to retrieve the flame.\\n\"\n",
      " '\\n'\n",
      " 'Next, they traveled to the ocean depths to find the element of water. They '\n",
      " \"encountered mermaids and sea serpents, but with Luna's knowledge of the sea, \"\n",
      " 'they were able to collect a drop of pure water.\\n'\n",
      " '\\n'\n",
      " 'Their journey took them to the heart of the desert, where they searched for '\n",
      " 'the element of earth. They faced sandstorms and scorching heat, but with '\n",
      " \"Kai's strength and Lyra's determination, they found a piece of solid rock.\\n\"\n",
      " '\\n'\n",
      " 'Finally, they ascended the highest mountain to find the element of air. They '\n",
      " \"battled freezing winds and snowstorms, but with Luna's wisdom and Lyra's \"\n",
      " 'courage, they captured a gust of wind.\\n'\n",
      " '\\n'\n",
      " 'With all four elements in hand, they returned to the temple. As they placed '\n",
      " 'each element into its respective altar, the temple began to glow. A portal '\n",
      " 'opened, revealing a dark figure who threatened to destroy Zephyria.\\n'\n",
      " '\\n'\n",
      " 'Lyra, Kai, and Luna stood together, ready to face the enemy. They combined '\n",
      " 'the elements, creating a powerful force that banished the dark figure back '\n",
      " 'to where he came from.\\n'\n",
      " '\\n'\n",
      " 'The people of Zephyria celebrated their victory, and Lyra, Kai, and Luna '\n",
      " 'were hailed as heroes. They returned to their normal lives, but they knew '\n",
      " 'that they would always be ready to protect their planet if needed.\\n'\n",
      " '\\n'\n",
      " 'And so, the legend of the three heroes who saved Zephyria lived on, '\n",
      " 'inspiring generations to come.')\n"
     ]
    }
   ],
   "source": [
    "import os\n",
    "from openai import OpenAI\n",
    "from pprint import pprint\n",
    "\n",
    "client = OpenAI(\n",
    "    api_key=os.environ[\"UPSTAGE_API_KEY\"], base_url=\"https://api.upstage.ai/v1/solar\"\n",
    ")\n",
    "chat_result = client.chat.completions.create(\n",
    "    model=\"solar-1-mini-chat\",\n",
    "    messages=[\n",
    "        {\n",
    "            \"role\": \"system\",\n",
    "            \"content\": \"Once Upon a Time in A Galaxy Far, Far, Away ...\",\n",
    "        },\n",
    "    ],\n",
    ")\n",
    "\n",
    "pprint(chat_result.choices[0].message.content)"
   ]
  },
  {
   "cell_type": "code",
   "execution_count": 5,
   "metadata": {},
   "outputs": [
    {
     "name": "stdout",
     "output_type": "stream",
     "text": [
      "('Sure, there are many beautiful places to visit in Seoul. Some popular '\n",
      " 'options include Gyeongbokgung Palace, Bukchon Hanok Village, and Namsan '\n",
      " 'Tower. These places offer stunning views of the city and are great for '\n",
      " 'taking photos.')\n"
     ]
    }
   ],
   "source": [
    "chat_result = client.chat.completions.create(\n",
    "    model=\"solar-1-mini-chat\",\n",
    "    messages=[\n",
    "        {\"role\": \"system\", \"content\": \"Can you tell me good place to vision in Seoul?\"},\n",
    "    ],\n",
    ")\n",
    "\n",
    "pprint(chat_result.choices[0].message.content)"
   ]
  },
  {
   "cell_type": "markdown",
   "metadata": {},
   "source": [
    "![Langchain](figures/langchain.jpg)\n",
    "\n",
    "https://python.langchain.com/v0.1/docs/integrations/providers/upstage/"
   ]
  },
  {
   "cell_type": "code",
   "execution_count": 6,
   "metadata": {},
   "outputs": [
    {
     "data": {
      "text/plain": [
       "AIMessage(content='The best season to learn Korean depends on your personal preferences and goals. Some people may prefer to start in the spring or summer when they have more free time, while others may prefer to start in the fall or winter when they have more motivation to learn a new language. Ultimately, the best time to start learning Korean is when you feel ready and motivated to do so.', response_metadata={'token_usage': {'completion_tokens': 76, 'prompt_tokens': 21, 'total_tokens': 97}, 'model_name': 'solar-1-mini-chat', 'system_fingerprint': None, 'finish_reason': 'stop', 'logprobs': None}, id='run-493bcd08-2396-40f0-b454-62b7846d6c46-0')"
      ]
     },
     "execution_count": 6,
     "metadata": {},
     "output_type": "execute_result"
    }
   ],
   "source": [
    "# Quick hello world\n",
    "from langchain_upstage import ChatUpstage\n",
    "\n",
    "llm = ChatUpstage()\n",
    "llm.invoke(\"What's the best season to get to Korean?\")"
   ]
  },
  {
   "cell_type": "code",
   "execution_count": 7,
   "metadata": {},
   "outputs": [
    {
     "data": {
      "text/plain": [
       "AIMessage(content='こんにちは、私はオープンアシスタントです。', response_metadata={'token_usage': {'completion_tokens': 11, 'prompt_tokens': 24, 'total_tokens': 35}, 'model_name': 'solar-1-mini-chat-ja', 'system_fingerprint': None, 'finish_reason': 'stop', 'logprobs': None}, id='run-76f134b8-b24e-4730-b901-95acbe8dfd63-0')"
      ]
     },
     "execution_count": 7,
     "metadata": {},
     "output_type": "execute_result"
    }
   ],
   "source": [
    "# Quick hello world\n",
    "from langchain_upstage import ChatUpstage\n",
    "\n",
    "llm = ChatUpstage(model=\"solar-1-mini-chat-ja\")\n",
    "llm.invoke(\"ソーラーLLM、こんにちは。ソーラーLLM、こんにちは。\")"
   ]
  },
  {
   "cell_type": "code",
   "execution_count": 8,
   "metadata": {},
   "outputs": [
    {
     "name": "stdout",
     "output_type": "stream",
     "text": [
      "batch_size: 1\n"
     ]
    },
    {
     "data": {
      "text/plain": [
       "(1, 4096)"
      ]
     },
     "execution_count": 8,
     "metadata": {},
     "output_type": "execute_result"
    }
   ],
   "source": [
    "from langchain_upstage import UpstageEmbeddings\n",
    "\n",
    "embeddings_model = UpstageEmbeddings(model=\"solar-embedding-1-large\")\n",
    "embeddings = embeddings_model.embed_documents(\n",
    "    [\n",
    "        \"Whay is the best season to visit Korea?\",\n",
    "    ])\n",
    "\n",
    "len(embeddings), len(embeddings[0])"
   ]
  }
 ],
 "metadata": {
  "kernelspec": {
   "display_name": ".venv",
   "language": "python",
   "name": "python3"
  },
  "language_info": {
   "codemirror_mode": {
    "name": "ipython",
    "version": 3
   },
   "file_extension": ".py",
   "mimetype": "text/x-python",
   "name": "python",
   "nbconvert_exporter": "python",
   "pygments_lexer": "ipython3",
   "version": "3.9.6"
  }
 },
 "nbformat": 4,
 "nbformat_minor": 2
}
