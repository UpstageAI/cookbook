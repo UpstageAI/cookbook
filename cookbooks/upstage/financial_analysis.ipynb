{
  "nbformat": 4,
  "nbformat_minor": 0,
  "metadata": {
    "colab": {
      "provenance": [],
      "authorship_tag": "ABX9TyPgmspt6XpJRlWEAeJdVutM",
      "include_colab_link": true
    },
    "kernelspec": {
      "name": "python3",
      "display_name": "Python 3"
    },
    "language_info": {
      "name": "python"
    }
  },
  "cells": [
    {
      "cell_type": "markdown",
      "metadata": {
        "id": "view-in-github",
        "colab_type": "text"
      },
      "source": [
        "<a href=\"https://colab.research.google.com/github/duper203/upstage_official_cookbook/blob/main/cookbooks/upstage/financial_analysis.ipynb\" target=\"_parent\"><img src=\"https://colab.research.google.com/assets/colab-badge.svg\" alt=\"Open In Colab\"/></a>"
      ]
    },
    {
      "cell_type": "code",
      "source": [
        "from google.colab import userdata\n",
        "upstage_api_key = userdata.get('upstage_api_key')"
      ],
      "metadata": {
        "id": "drykz5V6KOMK"
      },
      "execution_count": null,
      "outputs": []
    },
    {
      "cell_type": "code",
      "source": [
        "!pip install langchain-chroma"
      ],
      "metadata": {
        "id": "W-xHGXNe3pKM",
        "collapsed": true
      },
      "execution_count": null,
      "outputs": []
    },
    {
      "cell_type": "code",
      "source": [
        "!pip install langchain_upstage"
      ],
      "metadata": {
        "id": "oAdTVQ_w4Wxx",
        "collapsed": true
      },
      "execution_count": null,
      "outputs": []
    },
    {
      "cell_type": "code",
      "source": [
        "!pip install langchain"
      ],
      "metadata": {
        "id": "4zdFEJv14SHC",
        "collapsed": true
      },
      "execution_count": null,
      "outputs": []
    },
    {
      "cell_type": "markdown",
      "source": [
        "# INTRO\n",
        "### Financial Analysis over 10-K documents\n",
        "In the world of finance, extracting critical insights from lengthy documents like 10-K forms is an essential but often time-consuming task for analysts. The 10-K form is an annual report required by the U.S. Securities and Exchange Commission (SEC), which provides a comprehensive summary of a company's financial performance. These documents can run hundreds of pages and are filled with complex, domain-specific terminology. To address this challenge, we showcase how Upstage, combined with LangChain and Chroma, can assist financial analysts in quickly extracting and synthesizing insights from multiple documents with minimal coding effort.\n",
        "\n",
        "We demonstrate how 'Upstage' can empower financial analysts to efficiently extract and synthesize insights from multiple documents with minimal coding effort."
      ],
      "metadata": {
        "id": "RUK-8mJWLB1E"
      }
    },
    {
      "cell_type": "markdown",
      "source": [
        "## 1. Extract data from Document & Split\n",
        "The first step in our process involves loading the 10-K document and splitting it into manageable chunks of text. This allows for efficient processing and analysis. Here’s how you can do it:"
      ],
      "metadata": {
        "id": "Z4t3ThJlLYRS"
      }
    },
    {
      "cell_type": "code",
      "execution_count": null,
      "metadata": {
        "id": "9iGbcvgB3h_7"
      },
      "outputs": [],
      "source": [
        "from langchain.text_splitter import RecursiveCharacterTextSplitter, Language\n",
        "from langchain_upstage import UpstageLayoutAnalysisLoader\n",
        "from langchain_chroma import Chroma\n",
        "from langchain_upstage import UpstageEmbeddings"
      ]
    },
    {
      "cell_type": "code",
      "source": [
        "# check if text is in the vector store\n",
        "def is_in_vectorstore(vectorstore, text):\n",
        "    search_results = vectorstore.get(ids=[text])\n",
        "    if search_results and search_results[\"ids\"]:\n",
        "        return True\n",
        "    else:\n",
        "        return False\n"
      ],
      "metadata": {
        "id": "BKM-g4n94dUv"
      },
      "execution_count": null,
      "outputs": []
    },
    {
      "cell_type": "code",
      "source": [
        "file_path = \"c3_k-10.pdf\"\n",
        "# For image files, set use_ocr to True to perform OCR inference on the document before layout detection.\n",
        "loader = UpstageLayoutAnalysisLoader(file_path, split=\"page\", api_key=upstage_api_key, use_ocr=True)\n",
        "\n",
        "# For improved memory efficiency, consider using the lazy_load method to load documents page by page.\n",
        "docs = loader.load()  # or loader.lazy_load()"
      ],
      "metadata": {
        "id": "ONRZg1Yw4dOJ"
      },
      "execution_count": null,
      "outputs": []
    },
    {
      "cell_type": "code",
      "source": [
        "print(docs[0].page_content[:1000])\n"
      ],
      "metadata": {
        "colab": {
          "base_uri": "https://localhost:8080/"
        },
        "id": "jP2k2trd7VcU",
        "outputId": "d92cee44-baab-4c4f-ec1f-99d0be1fc0fd"
      },
      "execution_count": null,
      "outputs": [
        {
          "output_type": "stream",
          "name": "stdout",
          "text": [
            "<p id='1' data-category='paragraph' style='font-size:22px'>UNITED STATES<br>SECURITIES AND EXCHANGE COMMISSION<br>Washington, D.C. 20549<br>FORM 10-K</p> <br><p id='2' data-category='paragraph' style='font-size:16px'>(Mark One)</p> <br><p id='3' data-category='paragraph' style='font-size:14px'>ANNUAL REPORT PURSUANT TO SECTION 13 OR 15(d) OF THE SECURITIES EXCHANGE ACT OF 1934<br>For the fiscal year ended April 30, 2022</p> <p id='4' data-category='paragraph' style='font-size:14px'>OR</p> <p id='5' data-category='paragraph' style='font-size:14px'>TRANSITION REPORT PURSUANT TO SECTION 13 OR 15(d) OF THE SECURITIES EXCHANGE ACT OF 1934</p> <br><p id='6' data-category='paragraph' style='font-size:14px'>For the transition period from to<br>Commission File Number: 001-39744</p> <p id='7' data-category='paragraph' style='font-size:20px'>C3.ai, Inc.<br>(Exact name of registrant as specified in its charter)</p> <p id='8' data-category='paragraph' style='font-size:14px'>Delaware<br>(State or ot\n"
          ]
        }
      ]
    },
    {
      "cell_type": "code",
      "source": [
        "# 2. Split\n",
        "text_splitter = RecursiveCharacterTextSplitter.from_language(\n",
        "    chunk_size=1000, chunk_overlap=100, language=Language.HTML\n",
        ")\n",
        "splits = text_splitter.split_documents(docs)\n",
        "print(\"Splits:\", len(splits))"
      ],
      "metadata": {
        "colab": {
          "base_uri": "https://localhost:8080/"
        },
        "id": "4tel2vCA4oLO",
        "outputId": "2f3e030b-96dc-405a-bc90-7c0dc880779f"
      },
      "execution_count": null,
      "outputs": [
        {
          "output_type": "stream",
          "name": "stdout",
          "text": [
            "Splits: 985\n"
          ]
        }
      ]
    },
    {
      "cell_type": "markdown",
      "source": [
        "## 2. Store in a vectordb\n",
        "Once the document is split, the next step is to store these chunks in a vector database. We’ll use Chroma to create a vector store and Upstage for generating embeddings.\n",
        "\n"
      ],
      "metadata": {
        "id": "gx9aeCE4Lk4Y"
      }
    },
    {
      "cell_type": "code",
      "source": [
        "vectorstore = Chroma(\n",
        "    persist_directory=\"./chroma_db\",\n",
        "    embedding_function=UpstageEmbeddings(model=\"solar-embedding-1-large\", upstage_api_key=upstage_api_key),\n",
        ")\n",
        "retriever = vectorstore.as_retriever()\n",
        "\n",
        "\n",
        "unique_splits = [\n",
        "    split for split in splits if not is_in_vectorstore(vectorstore, split.page_content)\n",
        "]\n",
        "print(len(unique_splits))"
      ],
      "metadata": {
        "colab": {
          "base_uri": "https://localhost:8080/"
        },
        "id": "O6Zs2vUf4oDn",
        "outputId": "655444aa-f41a-40d9-8b4b-289e90d2f981"
      },
      "execution_count": null,
      "outputs": [
        {
          "output_type": "stream",
          "name": "stdout",
          "text": [
            "985\n"
          ]
        }
      ]
    },
    {
      "cell_type": "code",
      "source": [
        "import hashlib\n",
        "\n",
        "def generate_unique_id(content, index):\n",
        "    return hashlib.md5(f\"{index}-{content}\".encode()).hexdigest()\n",
        "if len(unique_splits) > 0:\n",
        "    vectorstore = Chroma.from_documents(\n",
        "        ids=[generate_unique_id(split.page_content, i) for i, split in enumerate(unique_splits)],\n",
        "        persist_directory=\"./chroma_db\",\n",
        "        documents=unique_splits,\n",
        "        embedding=UpstageEmbeddings(model=\"solar-embedding-1-large\", upstage_api_key=upstage_api_key),\n",
        "\n",
        ")"
      ],
      "metadata": {
        "id": "S-gCm67d4n4p"
      },
      "execution_count": null,
      "outputs": []
    },
    {
      "cell_type": "markdown",
      "source": [
        "## 3. Retrive relevant docs\n",
        "Now that our vector store is set up, we can easily retrieve relevant sections of the document based on specific queries. For example, we can ask about the company's financial risks.\n",
        "\n"
      ],
      "metadata": {
        "id": "KDrUQZM8Luep"
      }
    },
    {
      "cell_type": "code",
      "source": [
        "# Retrieving documents you would like to analyze from the company's financial document\n",
        "search_result = retriever.invoke(\"Tell me about finanical risks\")\n",
        "\n",
        "# Store the relevant documents based on the qeury\n",
        "doc_base = []\n",
        "\n",
        "print(search.page_content for search in search_result)\n",
        "print(search_result[0].page_content[:100])\n",
        "print(search_result[0])\n",
        "\n"
      ],
      "metadata": {
        "colab": {
          "base_uri": "https://localhost:8080/"
        },
        "id": "rh3FEnfdDkBx",
        "outputId": "33d1e106-727b-4c51-ecb6-9ff3d808ce8a"
      },
      "execution_count": null,
      "outputs": [
        {
          "output_type": "stream",
          "name": "stdout",
          "text": [
            "<generator object <genexpr> at 0x7c7c6a91fa00>\n",
            "<p id='83' data-category='paragraph' style='font-size:16px'>ITEM 7A. QUANTITATIVE AND QUALITATIVE DI\n",
            "page_content='<p id='83' data-category='paragraph' style='font-size:16px'>ITEM 7A. QUANTITATIVE AND QUALITATIVE DISCLOSURES ABOUT MARKET RISK</p> <p id='84' data-category='paragraph' style='font-size:14px'>We are exposed to market risks in the ordinary course of our business. Market risk represents the risk of loss that may impact our financial position due to<br>adverse changes in financial market prices and rates. Our market risk exposure is primarily the result of fluctuations in interest rates and foreign currency<br>exchange rates. We do not hold or issue financial instruments for trading purposes.</p> <h1 id='85' style='font-size:16px'>Interest Rate Risk</h1>' metadata={'page': 87}\n"
          ]
        }
      ]
    },
    {
      "cell_type": "code",
      "source": [
        "from bs4 import BeautifulSoup\n",
        "\n",
        "# Extract page content from relevant docuement that was parsed\n",
        "for search in search_result:\n",
        "    print(search.page_content)\n",
        "    soup = BeautifulSoup(search.page_content, 'html.parser')\n",
        "    text = soup.get_text(separator=\"\\n\")\n",
        "    doc_base.append(text)"
      ],
      "metadata": {
        "colab": {
          "base_uri": "https://localhost:8080/"
        },
        "id": "4YP4WLT2EnrR",
        "outputId": "e0d68100-5b15-4059-9d1d-2d171b2f0b11"
      },
      "execution_count": null,
      "outputs": [
        {
          "output_type": "stream",
          "name": "stdout",
          "text": [
            "<p id='83' data-category='paragraph' style='font-size:16px'>ITEM 7A. QUANTITATIVE AND QUALITATIVE DISCLOSURES ABOUT MARKET RISK</p> <p id='84' data-category='paragraph' style='font-size:14px'>We are exposed to market risks in the ordinary course of our business. Market risk represents the risk of loss that may impact our financial position due to<br>adverse changes in financial market prices and rates. Our market risk exposure is primarily the result of fluctuations in interest rates and foreign currency<br>exchange rates. We do not hold or issue financial instruments for trading purposes.</p> <h1 id='85' style='font-size:16px'>Interest Rate Risk</h1>\n",
            "<p id='59' data-category='paragraph' style='font-size:16px'>SELECTED RISKS AFFECTING OUR BUSINESS</p> <p id='60' data-category='paragraph' style='font-size:16px'>Investing in our Class A common stock involves numerous risks, including the risks described under \"Risk Factors\" in Part 1, Item 1A of this Annual<br>Report on Form 10-K. Below is a summary of some of the risks and uncertainties as of the date of the filing of this Annual Report on Form 10-K, any one<br>of which could materially adversely affect our business, financial condition, operating results, and prospects. You should read this summary together with<br>the more detailed description of each risk factor contained below.</p> <p id='61' data-category='paragraph' style='font-size:16px'>Risks Related to Our Business and Our Industry</p> <p id='62' data-category='list' style='font-size:14px'>· We have a limited operating history, which makes it difficult to evaluate our prospects and future results of operations.</p>\n",
            "<p id='77' data-category='paragraph' style='font-size:16px'>You should consider carefully the risks and uncertainties described below, together with all of the other information in this Annual Report on Form 10-K,<br>including the section titled \"Item 7. Management's Discussion and Analysis of Financial Condition and Results of Operations\" and our consolidated<br>financial statements and related notes. Our business, results of operations, financial condition and prospects could also be harmed by risks and<br>uncertainties that are not presently known to us or that we currently believe are not material. If any of the risks actually occur, our business, results of<br>operations, financial condition, and prospects could be materially and adversely affected. Unless otherwise indicated, references to our business being<br>harmed in these risk factors will include harm to our business, C3 AI Software (which includes our C3 AI Application Platform, C3 AI Applications, C3 AI\n",
            "<p id='73' data-category='paragraph' style='font-size:14px'>Financial instruments that potentially subject the Company to concentration of credit risk consist of cash and cash equivalents, investments and accounts<br>receivable. The majority of the Company's cash and cash equivalents are held by one financial institution. The Company is exposed to that financial<br>institution to the extent that its cash balance with that financial institution is in excess of Federal Deposit Insurance Company (\"FDIC\") insurance limits.<br>The Company's investment policy is to invest in securities with a minimum rating of P-2 by Moody's, A-2 by Standard & Poor's, F2 by Fitch's or higher<br>for short-term investments, and minimum rating of BBB by Moody's, Standard & Poor's, Fitch's or higher for long-term investments.</p> <p id='74' data-category='paragraph' style='font-size:14px'>Cash and Cash Equivalents</p>\n"
          ]
        }
      ]
    },
    {
      "cell_type": "markdown",
      "source": [
        "# 4. Analyze Financial Document\n",
        "Finally, we can use Upstage’s LLM capabilities to generate a summary report that includes an overview of identified risks, categorized by type, with a severity ranking."
      ],
      "metadata": {
        "id": "rpxuDWlJTA7u"
      }
    },
    {
      "cell_type": "code",
      "source": [
        "from langchain_core.prompts import PromptTemplate\n",
        "from langchain_core.output_parsers import StrOutputParser\n",
        "from langchain_upstage import ChatUpstage\n",
        "\n",
        "llm = ChatUpstage(api_key=upstage_api_key)\n",
        "\n",
        "prompt_template = PromptTemplate.from_template(\n",
        "    \"\"\"\n",
        "    Generate mainly two things from the following context.\n",
        "    1.Summary of Risks: Generate a summary report that includes an overview of identified risks, categorized by type, with a severity ranking.\n",
        "    2. Detailed Analysis: Provide a detailed breakdown of each identified risk, including the specific language from the document, context, and potential impact.\n",
        "    ---\n",
        "    Context: {Context}\n",
        "    \"\"\"\n",
        ")\n",
        "chain = prompt_template | llm | StrOutputParser()"
      ],
      "metadata": {
        "id": "1eopVnMC6n4l"
      },
      "execution_count": null,
      "outputs": []
    },
    {
      "cell_type": "code",
      "source": [
        "chain.invoke({\"Context\": doc_base})\n"
      ],
      "metadata": {
        "colab": {
          "base_uri": "https://localhost:8080/",
          "height": 234
        },
        "id": "a1Dd1Lt66o_r",
        "outputId": "b8afefd0-599f-4f32-e047-0e50df067518"
      },
      "execution_count": null,
      "outputs": [
        {
          "output_type": "execute_result",
          "data": {
            "text/plain": [
              "\"Summary of Risks:\\n\\n1. Market risk exposure primarily due to fluctuations in interest rates and foreign currency exchange rates.\\n2. Limited operating history, making it difficult to evaluate prospects and future results of operations.\\n3. Risks related to the business and industry, including potential harm to business, financial condition, operating results, and prospects.\\n4. Concentration of credit risk in cash and cash equivalents held by one financial institution, potentially exceeding FDIC insurance limits.\\n\\nDetailed Analysis:\\n\\n1. Market risk exposure: The company is exposed to market risks in the ordinary course of business, including fluctuations in interest rates and foreign currency exchange rates. However, the company does not hold or issue financial instruments for trading purposes.\\n2. Limited operating history: The company has a limited operating history, which makes it difficult to evaluate its prospects and future results of operations.\\n3. Risks related to the business and industry: The company faces various risks and uncertainties that could materially adversely affect its business, financial condition, operating results, and prospects. These risks include, but are not limited to, the potential harm to the company's business, C3 AI Software, and its customers.\\n4. Concentration of credit risk: The company's cash and cash equivalents are held by one financial institution, potentially exceeding FDIC insurance limits. The company's investment policy is to invest in securities with a minimum rating of P-2 by Moody's, A-2 by Standard & Poor's, F2 by Fitch's or higher for short-term investments, and minimum rating of BBB by Moody's, Standard & Poor's, Fitch's or higher for long-term investments.\""
            ],
            "application/vnd.google.colaboratory.intrinsic+json": {
              "type": "string"
            }
          },
          "metadata": {},
          "execution_count": 21
        }
      ]
    }
  ]
}