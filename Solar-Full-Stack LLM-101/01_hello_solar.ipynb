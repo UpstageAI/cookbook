{
 "cells": [
  {
   "cell_type": "markdown",
   "metadata": {},
   "source": [
    "<a target=\"_blank\" href=\"https://colab.research.google.com/github/UpstageAI/cookbook/blob/main/cookbooks/upstage/Solar-Full-Stack LLM-101/01_hello_solar.ipynb\">\n",
    "<img src=\"https://colab.research.google.com/assets/colab-badge.svg\" alt=\"Open In Colab\"/>\n",
    "</a>"
   ]
  },
  {
   "cell_type": "markdown",
   "metadata": {},
   "source": [
    "# 01. Hello_Solar"
   ]
  },
  {
   "cell_type": "markdown",
   "metadata": {},
   "source": [
    "## Overview  \n",
    "In this exercise, we will introduce Solar, a large language model (LLM) framework by Upstage. This initial notebook will cover the basics of setting up Solar, understanding its core components, and running a simple \"Hello, World!\" example to demonstrate its basic functionality.\n",
    " \n",
    "## Purpose of the Exercise\n",
    "The purpose of this exercise is to familiarize users with the Solar LLM framework. By the end of this tutorial, users will have a fundamental understanding of how to initialize and run Solar, preparing them for more advanced tasks and applications in subsequent exercises. This introductory example serves as a foundation for leveraging Solar's capabilities in various NLP tasks."
   ]
  },
  {
   "cell_type": "code",
   "execution_count": 1,
   "metadata": {},
   "outputs": [
    {
     "name": "stdout",
     "output_type": "stream",
     "text": [
      "\n",
      "\u001b[1m[\u001b[0m\u001b[34;49mnotice\u001b[0m\u001b[1;39;49m]\u001b[0m\u001b[39;49m A new release of pip is available: \u001b[0m\u001b[31;49m24.0\u001b[0m\u001b[39;49m -> \u001b[0m\u001b[32;49m24.1.1\u001b[0m\n",
      "\u001b[1m[\u001b[0m\u001b[34;49mnotice\u001b[0m\u001b[1;39;49m]\u001b[0m\u001b[39;49m To update, run: \u001b[0m\u001b[32;49mpip install --upgrade pip\u001b[0m\n"
     ]
    }
   ],
   "source": [
    "! pip3 install -qU langchain-upstage  requests python-dotenv"
   ]
  },
  {
   "cell_type": "markdown",
   "metadata": {},
   "source": [
    "## UPSTAGE_API_KEY\n",
    "To obtain your Upstage API key, follow these steps:\n",
    "\n",
    "1. Visit the Upstage AI console at <https://console.upstage.ai>.\n",
    "2. Sign up for an account if you don't already have one.\n",
    "3. Log in to your account.\n",
    "4. Navigate to the API key section.\n",
    "5. Generate your API key.\n",
    "6. Copy the key and save it securely.\n",
    "\n",
    "![Console](./figures/console.upstage.ai.jpg)"
   ]
  },
  {
   "cell_type": "code",
   "execution_count": 2,
   "metadata": {},
   "outputs": [],
   "source": [
    "# @title set API key\n",
    "from pprint import pprint\n",
    "import os\n",
    "\n",
    "import warnings\n",
    "\n",
    "warnings.filterwarnings(\"ignore\")\n",
    "\n",
    "from IPython import get_ipython\n",
    "\n",
    "upstage_api_key_env_name = \"UPSTAGE_API_KEY\"\n",
    "\n",
    "\n",
    "def load_env():\n",
    "    if \"google.colab\" in str(get_ipython()):\n",
    "        # Running in Google Colab\n",
    "        from google.colab import userdata\n",
    "\n",
    "        upstage_api_key = userdata.get(upstage_api_key_env_name)\n",
    "        return os.environ.setdefault(\"UPSTAGE_API_KEY\", upstage_api_key)\n",
    "    else:\n",
    "        # Running in local Jupyter Notebook\n",
    "        from dotenv import load_dotenv\n",
    "\n",
    "        load_dotenv()\n",
    "        return os.environ.get(upstage_api_key_env_name)\n",
    "\n",
    "\n",
    "UPSTAGE_API_KEY = load_env()"
   ]
  },
  {
   "cell_type": "code",
   "execution_count": 3,
   "metadata": {},
   "outputs": [
    {
     "name": "stdout",
     "output_type": "stream",
     "text": [
      "('In a galaxy far, far away, there was a planet called Zephyr. On this planet, '\n",
      " 'there lived a young boy named Kai. Kai was an orphan who lived with his '\n",
      " 'grandmother in a small village. They were very poor, and Kai dreamed of a '\n",
      " 'life filled with adventure and excitement.\\n'\n",
      " '\\n'\n",
      " 'One day, while exploring the outskirts of the village, Kai stumbled upon an '\n",
      " 'old, dusty book. It was a book about the legendary Jedi Knights, a group of '\n",
      " 'powerful warriors who used the Force to maintain peace and justice in the '\n",
      " 'galaxy. Kai had never heard of the Jedi before, but he was immediately '\n",
      " 'captivated by their stories.\\n'\n",
      " '\\n'\n",
      " 'As Kai read more about the Jedi, he realized that he had a natural affinity '\n",
      " \"for the Force. He began to practice the Jedi's ways, using the Force to lift \"\n",
      " \"objects and sense the emotions of those around him. Kai's grandmother, \"\n",
      " 'seeing the change in her grandson, encouraged him to follow his dreams and '\n",
      " 'seek out a Jedi Master who could teach him more about the Force.\\n'\n",
      " '\\n'\n",
      " 'Kai set out on a journey to find a Jedi Master, leaving behind the only home '\n",
      " 'he had ever known. Along the way, he encountered many challenges and met '\n",
      " 'many interesting characters, including a wise old smuggler named Lando and a '\n",
      " 'fierce Wookiee named Chewbacca.\\n'\n",
      " '\\n'\n",
      " 'Together, they traveled to the planet of Coruscant, the galactic capital and '\n",
      " 'home of the Jedi Temple. There, Kai met Master Yoda, who recognized the '\n",
      " 'potential in the young boy and agreed to train him.\\n'\n",
      " '\\n'\n",
      " \"Under Master Yoda's guidance, Kai learned to control his emotions and \"\n",
      " 'harness the power of the Force. He became a skilled Jedi Knight, using his '\n",
      " 'abilities to protect the galaxy from the evil Empire and its leader, Darth '\n",
      " 'Vader.\\n'\n",
      " '\\n'\n",
      " 'As Kai grew older, he became a legend among the Jedi, known for his bravery '\n",
      " 'and unwavering commitment to justice. He continued to explore the galaxy, '\n",
      " 'encountering new challenges and making new friends along the way.\\n'\n",
      " '\\n'\n",
      " \"And so, Kai's journey came full circle, from a poor orphan living in a small \"\n",
      " 'village to a powerful Jedi Knight, protecting the galaxy and living the life '\n",
      " 'of adventure he had always dreamed of.')\n"
     ]
    }
   ],
   "source": [
    "import os\n",
    "from openai import OpenAI\n",
    "from pprint import pprint\n",
    "\n",
    "client = OpenAI(\n",
    "    api_key=os.environ[\"UPSTAGE_API_KEY\"], base_url=\"https://api.upstage.ai/v1/solar\"\n",
    ")\n",
    "chat_result = client.chat.completions.create(\n",
    "    model=\"solar-1-mini-chat\",\n",
    "    messages=[\n",
    "        {\n",
    "            \"role\": \"system\",\n",
    "            \"content\": \"Once Upon a Time in A Galaxy Far, Far, Away ...\",\n",
    "        },\n",
    "    ],\n",
    ")\n",
    "\n",
    "pprint(chat_result.choices[0].message.content)"
   ]
  },
  {
   "cell_type": "code",
   "execution_count": 5,
   "metadata": {},
   "outputs": [
    {
     "name": "stdout",
     "output_type": "stream",
     "text": [
      "('Sure, there are many great places to visit in Seoul for a good view. Here '\n",
      " 'are some popular spots:\\n'\n",
      " '\\n'\n",
      " '1. N Seoul Tower: This tower offers a 360-degree view of the city and is '\n",
      " 'located in Namsan Park.\\n'\n",
      " '2. Seoullo 7017: This elevated park offers a unique view of the city and is '\n",
      " 'located in the heart of Seoul.\\n'\n",
      " '3. Bukhansan National Park: This park offers a scenic view of the city and '\n",
      " 'is located in the northern part of Seoul.\\n'\n",
      " '4. Incheon Sky Garden: This observation deck offers a panoramic view of the '\n",
      " 'city and is located in Incheon, a city near Seoul.\\n'\n",
      " '5. Everland: This amusement park offers a scenic view of the city and is '\n",
      " 'located in Yongin, a city near Seoul.\\n'\n",
      " '\\n'\n",
      " 'These are just a few examples, there are many other places to visit in Seoul '\n",
      " 'for a good view.')\n"
     ]
    }
   ],
   "source": [
    "chat_result = client.chat.completions.create(\n",
    "    model=\"solar-1-mini-chat\",\n",
    "    messages=[\n",
    "        {\"role\": \"system\", \"content\": \"Can you tell me good place to vision in Seoul?\"},\n",
    "    ],\n",
    ")\n",
    "\n",
    "pprint(chat_result.choices[0].message.content)"
   ]
  },
  {
   "cell_type": "markdown",
   "metadata": {},
   "source": [
    "![Langchain](figures/langchain.jpg)\n",
    "\n",
    "https://python.langchain.com/v0.2/docs/integrations/providers/upstage/"
   ]
  },
  {
   "cell_type": "code",
   "execution_count": 6,
   "metadata": {},
   "outputs": [
    {
     "data": {
      "text/plain": [
       "AIMessage(content='The best season to learn Korean depends on your personal preferences and learning style. Some people prefer to start in the spring or summer because they have more free time and can dedicate more hours to studying. Others prefer to start in the fall or winter because they have fewer distractions and can focus more on their studies. Ultimately, the best season to start learning Korean is when you feel ready and motivated to start.', response_metadata={'token_usage': {'completion_tokens': 85, 'prompt_tokens': 21, 'total_tokens': 106}, 'model_name': 'solar-1-mini-chat-240612', 'system_fingerprint': None, 'finish_reason': 'stop', 'logprobs': None}, id='run-cfa9a402-b336-4e78-9144-13572985ff61-0', usage_metadata={'input_tokens': 21, 'output_tokens': 85, 'total_tokens': 106})"
      ]
     },
     "execution_count": 6,
     "metadata": {},
     "output_type": "execute_result"
    }
   ],
   "source": [
    "# Quick hello world\n",
    "from langchain_upstage import ChatUpstage\n",
    "\n",
    "llm = ChatUpstage()\n",
    "llm.invoke(\"What's the best season to get to Korean?\")"
   ]
  },
  {
   "cell_type": "code",
   "execution_count": 7,
   "metadata": {},
   "outputs": [
    {
     "data": {
      "text/plain": [
       "AIMessage(content='こんにちは、私はソーラーLLMです。', response_metadata={'token_usage': {'completion_tokens': 11, 'prompt_tokens': 24, 'total_tokens': 35}, 'model_name': 'solar-1-mini-chat-ja-240612', 'system_fingerprint': None, 'finish_reason': 'stop', 'logprobs': None}, id='run-4ea60280-76db-4a77-a724-8837a4c661f6-0', usage_metadata={'input_tokens': 24, 'output_tokens': 11, 'total_tokens': 35})"
      ]
     },
     "execution_count": 7,
     "metadata": {},
     "output_type": "execute_result"
    }
   ],
   "source": [
    "# Quick hello world\n",
    "from langchain_upstage import ChatUpstage\n",
    "\n",
    "llm = ChatUpstage(model=\"solar-1-mini-chat-ja\")\n",
    "llm.invoke(\"ソーラーLLM、こんにちは。ソーラーLLM、こんにちは。\")"
   ]
  },
  {
   "cell_type": "code",
   "execution_count": 8,
   "metadata": {},
   "outputs": [
    {
     "data": {
      "text/plain": [
       "(1, 4096)"
      ]
     },
     "execution_count": 8,
     "metadata": {},
     "output_type": "execute_result"
    }
   ],
   "source": [
    "from langchain_upstage import UpstageEmbeddings\n",
    "\n",
    "embeddings_model = UpstageEmbeddings(model=\"solar-embedding-1-large\")\n",
    "embeddings = embeddings_model.embed_documents(\n",
    "    [\n",
    "        \"Whay is the best season to visit Korea?\",\n",
    "    ]\n",
    ")\n",
    "\n",
    "len(embeddings), len(embeddings[0])"
   ]
  }
 ],
 "metadata": {
  "kernelspec": {
   "display_name": "Python 3 (ipykernel)",
   "language": "python",
   "name": "python3"
  },
  "language_info": {
   "codemirror_mode": {
    "name": "ipython",
    "version": 3
   },
   "file_extension": ".py",
   "mimetype": "text/x-python",
   "name": "python",
   "nbconvert_exporter": "python",
   "pygments_lexer": "ipython3",
   "version": "3.10.10"
  }
 },
 "nbformat": 4,
 "nbformat_minor": 4
}
