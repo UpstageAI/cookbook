{
 "cells": [
  {
   "cell_type": "markdown",
   "id": "eb7043fc",
   "metadata": {},
   "source": [
    "# Client code for using Solar Mini Chat SageMaker Endpoint "
   ]
  },
  {
   "cell_type": "markdown",
   "id": "8239f7ef",
   "metadata": {},
   "source": [
    "This notebook demonstrates how to invoke SageMaker inference endpoint."
   ]
  },
  {
   "cell_type": "markdown",
   "id": "2ae029af",
   "metadata": {},
   "source": [
    "## 1. Set AWS credentials"
   ]
  },
  {
   "cell_type": "code",
   "execution_count": null,
   "id": "b498c5a2-51c6-4806-8e9e-b7164f8fa6c0",
   "metadata": {},
   "outputs": [],
   "source": [
    "import os\n",
    "\n",
    "# set your aws credential\n",
    "# os.environ['AWS_ACCESS_KEY_ID']='xxx'\n",
    "# os.environ['AWS_SECRET_ACCESS_KEY']='xxx'\n",
    "# os.environ['AWS_DEFAULT_REGION']='xxx'\n",
    "\n",
    "# or aws profile\n",
    "os.environ[\"AWS_PROFILE\"] = \"YOUR_AWS_PROFILE\""
   ]
  },
  {
   "cell_type": "markdown",
   "id": "f043326c",
   "metadata": {},
   "source": [
    "## 2. Prepare input"
   ]
  },
  {
   "cell_type": "code",
   "execution_count": null,
   "id": "eaa9ffbe-a922-4842-ab96-45a014c488b1",
   "metadata": {},
   "outputs": [],
   "source": [
    "import boto3\n",
    "\n",
    "# Create a low-level client representing Amazon SageMaker Runtime\n",
    "sagemaker_runtime = boto3.client(\"sagemaker-runtime\")\n",
    "endpoint_name = \"YOUR_ENDPOINT_NAME\""
   ]
  },
  {
   "cell_type": "markdown",
   "id": "9fb36257",
   "metadata": {},
   "source": [
    "## 3. Invoke endpoint\n",
    "\n",
    "### 3.1. Stream mode"
   ]
  },
  {
   "cell_type": "code",
   "execution_count": null,
   "id": "4574edaf-a35d-4fe5-8ba5-5420f3c6c663",
   "metadata": {},
   "outputs": [],
   "source": [
    "!pip3 install sseclient-py"
   ]
  },
  {
   "cell_type": "code",
   "execution_count": null,
   "id": "08f62541-54a8-4cd7-b8fd-cbf1b843b720",
   "metadata": {},
   "outputs": [],
   "source": [
    "request_body = {\n",
    "    \"messages\": [\n",
    "        {\"role\": \"system\", \"content\": \"You are a helpful assistant.\"},\n",
    "        {\"role\": \"user\", \"content\": \"What is Large Language Model?\"},\n",
    "    ],\n",
    "    \"stream\": True,\n",
    "}"
   ]
  },
  {
   "cell_type": "code",
   "execution_count": null,
   "id": "82da2080-82d5-4236-8d6c-9963475eead5",
   "metadata": {},
   "outputs": [],
   "source": [
    "def stream_invoke(endpoint_name, request_body):\n",
    "    response = sagemaker_runtime.invoke_endpoint_with_response_stream(\n",
    "        EndpointName=endpoint_name,\n",
    "        Body=json.dumps(request_body),\n",
    "        ContentType=\"application/json\",\n",
    "    )\n",
    "\n",
    "    for event in response[\"Body\"]:\n",
    "        yield event[\"PayloadPart\"][\"Bytes\"]"
   ]
  },
  {
   "cell_type": "code",
   "execution_count": null,
   "id": "42dd021c-73d3-4b1b-ba1d-62d558d83ad7",
   "metadata": {},
   "outputs": [],
   "source": [
    "import json\n",
    "import sseclient\n",
    "\n",
    "response = stream_invoke(endpoint_name, request_body)\n",
    "\n",
    "client = sseclient.SSEClient(response)\n",
    "for event in client.events():\n",
    "    if event.data == \"[DONE]\":\n",
    "        break\n",
    "\n",
    "    data = json.loads(event.data)\n",
    "    if data.get(\"choices\"):\n",
    "        print(data[\"choices\"][0][\"delta\"].get(\"content\", \"\"), end=\"\")"
   ]
  },
  {
   "cell_type": "markdown",
   "id": "78e7b84c",
   "metadata": {},
   "source": [
    "### 3.2. Non-stream mode"
   ]
  },
  {
   "cell_type": "code",
   "execution_count": null,
   "id": "7a4aa322",
   "metadata": {},
   "outputs": [],
   "source": [
    "import json\n",
    "\n",
    "nonstream_body = {\n",
    "    \"messages\": [\n",
    "        {\"role\": \"system\", \"content\": \"You are a helpful assistant.\"},\n",
    "        {\"role\": \"user\", \"content\": \"What is Large Language Model?\"},\n",
    "    ],\n",
    "    \"stream\": False,\n",
    "}\n",
    "\n",
    "response = sagemaker_runtime.invoke_endpoint(\n",
    "    EndpointName=endpoint_name,\n",
    "    ContentType=\"application/json\",\n",
    "    Body=json.dumps(nonstream_body),\n",
    ")\n",
    "result = json.loads(response[\"Body\"].read().decode())\n",
    "print(result)"
   ]
  }
 ],
 "metadata": {
  "kernelspec": {
   "display_name": "Python 3 (ipykernel)",
   "language": "python",
   "name": "python3"
  },
  "language_info": {
   "codemirror_mode": {
    "name": "ipython",
    "version": 3
   },
   "file_extension": ".py",
   "mimetype": "text/x-python",
   "name": "python",
   "nbconvert_exporter": "python",
   "pygments_lexer": "ipython3",
   "version": "3.9.13"
  }
 },
 "nbformat": 4,
 "nbformat_minor": 5
}
