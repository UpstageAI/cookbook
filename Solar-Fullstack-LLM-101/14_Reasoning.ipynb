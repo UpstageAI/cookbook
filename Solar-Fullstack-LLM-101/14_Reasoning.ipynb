{
 "cells": [
  {
   "cell_type": "markdown",
   "metadata": {},
   "source": [
    "<a target=\"_blank\" href=\"https://colab.research.google.com/github/UpstageAI/cookbook/blob/main/Solar-Fullstack-LLM-101/01_hello_solar.ipynb\">\n",
    "<img src=\"https://colab.research.google.com/assets/colab-badge.svg\" alt=\"Open In Colab\"/>\n",
    "</a>"
   ]
  },
  {
   "cell_type": "markdown",
   "metadata": {},
   "source": [
    "# 14. Reasoning"
   ]
  },
  {
   "cell_type": "markdown",
   "metadata": {},
   "source": [
    "## Goal\n",
    "..."
   ]
  },
  {
   "cell_type": "code",
   "execution_count": 80,
   "metadata": {},
   "outputs": [],
   "source": [
    "! pip3 install -qU langchain-upstage requests python-dotenv datasets"
   ]
  },
  {
   "cell_type": "markdown",
   "metadata": {},
   "source": [
    "## UPSTAGE_API_KEY\n",
    "To obtain your Upstage API key, follow these steps:\n",
    "\n",
    "1. Visit the Upstage AI console at <https://console.upstage.ai>.\n",
    "2. Sign up for an account if you don't already have one.\n",
    "3. Log in to your account.\n",
    "4. Navigate to the API key section.\n",
    "5. Generate your API key.\n",
    "6. Copy the key and save it securely.\n",
    "\n",
    "![Console](./figures/console.upstage.ai.jpg)"
   ]
  },
  {
   "cell_type": "code",
   "execution_count": 81,
   "metadata": {},
   "outputs": [],
   "source": [
    "# @title set API key\n",
    "from pprint import pprint\n",
    "import os\n",
    "\n",
    "import warnings\n",
    "\n",
    "warnings.filterwarnings(\"ignore\")\n",
    "\n",
    "if \"google.colab\" in str(get_ipython()):\n",
    "    # Running in Google Colab. Please set the UPSTAGE_API_KEY in the Colab Secrets\n",
    "    from google.colab import userdata\n",
    "\n",
    "    os.environ[\"UPSTAGE_API_KEY\"] = userdata.get(\"UPSTAGE_API_KEY\")\n",
    "else:\n",
    "    # Running locally. Please set the UPSTAGE_API_KEY in the .env file\n",
    "    from dotenv import load_dotenv\n",
    "\n",
    "    load_dotenv()\n",
    "\n",
    "assert (\n",
    "    \"UPSTAGE_API_KEY\" in os.environ\n",
    "), \"Please set the UPSTAGE_API_KEY environment variable\""
   ]
  },
  {
   "cell_type": "code",
   "execution_count": 82,
   "metadata": {},
   "outputs": [],
   "source": [
    "from datasets import load_dataset\n",
    "\n",
    "ds = load_dataset(\"SkunkworksAI/reasoning-0.01\")"
   ]
  },
  {
   "cell_type": "code",
   "execution_count": 83,
   "metadata": {},
   "outputs": [
    {
     "data": {
      "text/plain": [
       "DatasetDict({\n",
       "    train: Dataset({\n",
       "        features: ['instruction', 'reasoning', 'output', 'reasoning_chains'],\n",
       "        num_rows: 29857\n",
       "    })\n",
       "})"
      ]
     },
     "execution_count": 83,
     "metadata": {},
     "output_type": "execute_result"
    }
   ],
   "source": [
    "ds"
   ]
  },
  {
   "cell_type": "code",
   "execution_count": 84,
   "metadata": {},
   "outputs": [
    {
     "name": "stdout",
     "output_type": "stream",
     "text": [
      "('----\\n'\n",
      " 'Example 1:\\n'\n",
      " '\\n'\n",
      " 'Instruction: If a die is rolled three times, what is the probability of '\n",
      " 'getting a sum of 11? None\\n'\n",
      " '\\n'\n",
      " 'Reasoning: 1. Understand the problem: We need to find the probability of '\n",
      " 'getting a sum of 11 when rolling a die three times.\\n'\n",
      " '2. Calculate total possible outcomes: A die has 6 faces, so for each roll, '\n",
      " 'there are 6 possibilities. For three rolls, the total possible outcomes are '\n",
      " '6^3 = 216.\\n'\n",
      " '3. Identify favorable outcomes: List all combinations of rolls that result '\n",
      " 'in a sum of 11. There are 18 such combinations.\\n'\n",
      " '4. Calculate probability: Divide the number of favorable outcomes by the '\n",
      " 'total possible outcomes: 18 / 216 = 1/12.\\n'\n",
      " '5. Conclusion: The probability of getting a sum of 11 when rolling a die '\n",
      " 'three times is 1/12.\\n'\n",
      " '\\n'\n",
      " \"Reasoning Chains: [{'step': 1, 'thought': 'Understand the problem: We need \"\n",
      " 'to find the probability of getting a sum of 11 when rolling a die three '\n",
      " \"times.'}, {'step': 2, 'thought': 'Calculate total possible outcomes: A die \"\n",
      " 'has 6 faces, so for each roll, there are 6 possibilities. For three rolls, '\n",
      " \"the total possible outcomes are 6^3 = 216.'}, {'step': 3, 'thought': \"\n",
      " \"'Identify favorable outcomes: List all combinations of rolls that result in \"\n",
      " \"a sum of 11. There are 18 such combinations.'}, {'step': 4, 'thought': \"\n",
      " \"'Calculate probability: Divide the number of favorable outcomes by the total \"\n",
      " \"possible outcomes: 18 / 216 = 1/12.'}, {'step': 5, 'thought': 'Conclusion: \"\n",
      " 'The probability of getting a sum of 11 when rolling a die three times is '\n",
      " \"1/12.'}]\\n\"\n",
      " '----\\n'\n",
      " 'Example 2:\\n'\n",
      " '\\n'\n",
      " 'Instruction: The interactions will be about the science behind culinary '\n",
      " 'techniques. The setting is a cooking class where three friends are '\n",
      " 'discussing various aspects of cooking and sharing their knowledge.\\n'\n",
      " '- USER/Jane: A curious learner who wants to understand the science behind '\n",
      " 'cooking\\n'\n",
      " '- Mike: An experienced home cook with a passion for experimenting in the '\n",
      " 'kitchen\\n'\n",
      " '- Sarah: A food scientist who loves explaining the chemistry behind '\n",
      " 'different cooking processes\\n'\n",
      " '\\n'\n",
      " ' None\\n'\n",
      " '\\n'\n",
      " 'Reasoning: 1. Start with the given setting: a cooking class with three '\n",
      " 'friends discussing the science behind culinary techniques.\\n'\n",
      " '2. Introduce the topic of resting meat after cooking, with Mike asking Jane '\n",
      " \"if she's ever wondered about it.\\n\"\n",
      " '3. Have Sarah explain the science behind resting meat, mentioning denatured '\n",
      " 'proteins and juice redistribution.\\n'\n",
      " \"4. Address the user's question about resting meat, with Sarah confirming \"\n",
      " 'that it allows juices to redistribute.\\n'\n",
      " '5. Move on to the topic of adding salt to water, with Mike mentioning its '\n",
      " 'effect on boiling point.\\n'\n",
      " \"6. Have Sarah explain the science behind salt's effect on boiling point, \"\n",
      " 'mentioning the higher temperature required for boiling.\\n'\n",
      " \"7. Address the user's question about cooking speed, with Sarah explaining \"\n",
      " \"that it's slightly faster due to the hotter water.\\n\"\n",
      " '8. Introduce the topic of acids in cooking, with Mike mentioning their use '\n",
      " 'in brightening dishes.\\n'\n",
      " \"9. Have Sarah explain the science behind acids' effects on flavor and \"\n",
      " 'tenderizing meats.\\n'\n",
      " \"10. Address the user's question about baking, with Mike mentioning the \"\n",
      " 'science involved in baking and Sarah explaining the role of gluten and '\n",
      " 'leavening agents.\\n'\n",
      " '11. Conclude the conversation with the characters expressing their '\n",
      " 'fascination with the science behind cooking and their excitement to continue '\n",
      " 'learning and experimenting.\\n'\n",
      " '\\n'\n",
      " \"Reasoning Chains: [{'step': 1, 'thought': 'Start with the given setting: a \"\n",
      " 'cooking class with three friends discussing the science behind culinary '\n",
      " 'techniques.\\'}, {\\'step\\': 2, \\'thought\\': \"Introduce the topic of resting '\n",
      " \"meat after cooking, with Mike asking Jane if she's ever wondered about \"\n",
      " 'it.\"}, {\\'step\\': 3, \\'thought\\': \\'Have Sarah explain the science behind '\n",
      " \"resting meat, mentioning denatured proteins and juice redistribution.'}, \"\n",
      " '{\\'step\\': 4, \\'thought\\': \"Address the user\\'s question about resting meat, '\n",
      " 'with Sarah confirming that it allows juices to redistribute.\"}, {\\'step\\': '\n",
      " \"5, 'thought': 'Move on to the topic of adding salt to water, with Mike \"\n",
      " 'mentioning its effect on boiling point.\\'}, {\\'step\\': 6, \\'thought\\': \"Have '\n",
      " \"Sarah explain the science behind salt's effect on boiling point, mentioning \"\n",
      " 'the higher temperature required for boiling.\"}, {\\'step\\': 7, \\'thought\\': '\n",
      " '\"Address the user\\'s question about cooking speed, with Sarah explaining '\n",
      " 'that it\\'s slightly faster due to the hotter water.\"}, {\\'step\\': 8, '\n",
      " \"'thought': 'Introduce the topic of acids in cooking, with Mike mentioning \"\n",
      " 'their use in brightening dishes.\\'}, {\\'step\\': 9, \\'thought\\': \"Have Sarah '\n",
      " \"explain the science behind acids' effects on flavor and tenderizing \"\n",
      " 'meats.\"}, {\\'step\\': 10, \\'thought\\': \"Address the user\\'s question about '\n",
      " 'baking, with Mike mentioning the science involved in baking and Sarah '\n",
      " 'explaining the role of gluten and leavening agents.\"}, {\\'step\\': 11, '\n",
      " \"'thought': 'Conclude the conversation with the characters expressing their \"\n",
      " 'fascination with the science behind cooking and their excitement to continue '\n",
      " \"learning and experimenting.'}]\\n\")\n"
     ]
    }
   ],
   "source": [
    "# DatasetDict({\n",
    "#    train: Dataset({\n",
    "#        features: ['instruction', 'reasoning', 'output', 'reasoning_chains'],\n",
    "#        num_rows: 29857\n",
    "#    })\n",
    "# })\n",
    "\n",
    "# Let's take a look at the first five examples in the training set\n",
    "# Skip Output: {example['output']}\n",
    "reasoning_chain_examples = \"\"\n",
    "for i, example in enumerate(ds[\"train\"].select(range(2))):\n",
    "    reasoning_chain_examples += f\"\"\"----\n",
    "Example {i + 1}:\n",
    "\n",
    "Instruction: {example['instruction']}\n",
    "\n",
    "Reasoning: {example['reasoning']}\n",
    "\n",
    "Reasoning Chains: {example['reasoning_chains']}\n",
    "\"\"\"\n",
    "\n",
    "pprint(reasoning_chain_examples)"
   ]
  },
  {
   "cell_type": "code",
   "execution_count": 85,
   "metadata": {},
   "outputs": [
    {
     "name": "stdout",
     "output_type": "stream",
     "text": [
      "Human: Given Instruction, please generate {what}. Please use the following exampels.\n",
      "    If reasoning and/or reasoning chains are provided, please use them as context to generate the {what}.\n",
      "    Please only generate the {what} and do not include others.\n",
      "    \n",
      "    See the examples below:\n",
      "    ----\n",
      "Example 1:\n",
      "\n",
      "Instruction: If a die is rolled three times, what is the probability of getting a sum of 11? None\n",
      "\n",
      "Reasoning: 1. Understand the problem: We need to find the probability of getting a sum of 11 when rolling a die three times.\n",
      "2. Calculate total possible outcomes: A die has 6 faces, so for each roll, there are 6 possibilities. For three rolls, the total possible outcomes are 6^3 = 216.\n",
      "3. Identify favorable outcomes: List all combinations of rolls that result in a sum of 11. There are 18 such combinations.\n",
      "4. Calculate probability: Divide the number of favorable outcomes by the total possible outcomes: 18 / 216 = 1/12.\n",
      "5. Conclusion: The probability of getting a sum of 11 when rolling a die three times is 1/12.\n",
      "\n",
      "Reasoning Chains: [{'step': 1, 'thought': 'Understand the problem: We need to find the probability of getting a sum of 11 when rolling a die three times.'}, {'step': 2, 'thought': 'Calculate total possible outcomes: A die has 6 faces, so for each roll, there are 6 possibilities. For three rolls, the total possible outcomes are 6^3 = 216.'}, {'step': 3, 'thought': 'Identify favorable outcomes: List all combinations of rolls that result in a sum of 11. There are 18 such combinations.'}, {'step': 4, 'thought': 'Calculate probability: Divide the number of favorable outcomes by the total possible outcomes: 18 / 216 = 1/12.'}, {'step': 5, 'thought': 'Conclusion: The probability of getting a sum of 11 when rolling a die three times is 1/12.'}]\n",
      "----\n",
      "Example 2:\n",
      "\n",
      "Instruction: The interactions will be about the science behind culinary techniques. The setting is a cooking class where three friends are discussing various aspects of cooking and sharing their knowledge.\n",
      "- USER/Jane: A curious learner who wants to understand the science behind cooking\n",
      "- Mike: An experienced home cook with a passion for experimenting in the kitchen\n",
      "- Sarah: A food scientist who loves explaining the chemistry behind different cooking processes\n",
      "\n",
      " None\n",
      "\n",
      "Reasoning: 1. Start with the given setting: a cooking class with three friends discussing the science behind culinary techniques.\n",
      "2. Introduce the topic of resting meat after cooking, with Mike asking Jane if she's ever wondered about it.\n",
      "3. Have Sarah explain the science behind resting meat, mentioning denatured proteins and juice redistribution.\n",
      "4. Address the user's question about resting meat, with Sarah confirming that it allows juices to redistribute.\n",
      "5. Move on to the topic of adding salt to water, with Mike mentioning its effect on boiling point.\n",
      "6. Have Sarah explain the science behind salt's effect on boiling point, mentioning the higher temperature required for boiling.\n",
      "7. Address the user's question about cooking speed, with Sarah explaining that it's slightly faster due to the hotter water.\n",
      "8. Introduce the topic of acids in cooking, with Mike mentioning their use in brightening dishes.\n",
      "9. Have Sarah explain the science behind acids' effects on flavor and tenderizing meats.\n",
      "10. Address the user's question about baking, with Mike mentioning the science involved in baking and Sarah explaining the role of gluten and leavening agents.\n",
      "11. Conclude the conversation with the characters expressing their fascination with the science behind cooking and their excitement to continue learning and experimenting.\n",
      "\n",
      "Reasoning Chains: [{'step': 1, 'thought': 'Start with the given setting: a cooking class with three friends discussing the science behind culinary techniques.'}, {'step': 2, 'thought': \"Introduce the topic of resting meat after cooking, with Mike asking Jane if she's ever wondered about it.\"}, {'step': 3, 'thought': 'Have Sarah explain the science behind resting meat, mentioning denatured proteins and juice redistribution.'}, {'step': 4, 'thought': \"Address the user's question about resting meat, with Sarah confirming that it allows juices to redistribute.\"}, {'step': 5, 'thought': 'Move on to the topic of adding salt to water, with Mike mentioning its effect on boiling point.'}, {'step': 6, 'thought': \"Have Sarah explain the science behind salt's effect on boiling point, mentioning the higher temperature required for boiling.\"}, {'step': 7, 'thought': \"Address the user's question about cooking speed, with Sarah explaining that it's slightly faster due to the hotter water.\"}, {'step': 8, 'thought': 'Introduce the topic of acids in cooking, with Mike mentioning their use in brightening dishes.'}, {'step': 9, 'thought': \"Have Sarah explain the science behind acids' effects on flavor and tenderizing meats.\"}, {'step': 10, 'thought': \"Address the user's question about baking, with Mike mentioning the science involved in baking and Sarah explaining the role of gluten and leavening agents.\"}, {'step': 11, 'thought': 'Conclude the conversation with the characters expressing their fascination with the science behind cooking and their excitement to continue learning and experimenting.'}]\n",
      "\n",
      "    ---\n",
      "    \n",
      "    Instruction: {instruction}\n",
      "    --\n",
      "    {reasoning}\n",
      "    --\n",
      "    {reasoning_chains}   \n",
      "    \n"
     ]
    }
   ],
   "source": [
    "from langchain_core.prompts import PromptTemplate, ChatPromptTemplate\n",
    "from langchain_core.output_parsers import StrOutputParser\n",
    "from langchain_upstage import ChatUpstage\n",
    "\n",
    "reasoning_chain_teample = ChatPromptTemplate.from_messages(\n",
    "    [\n",
    "        (\"human\", \"\"\"Given Instruction, please generate {what}. Please use the following exampels.\n",
    "    If reasoning and/or reasoning chains are provided, please use them as context to generate the {what}.\n",
    "    Please only generate the {what} and do not include others.\n",
    "    \n",
    "    See the examples below:\n",
    "    {examples}\n",
    "    ---\n",
    "    \n",
    "    Instruction: {instruction}\n",
    "    --\n",
    "    {reasoning}\n",
    "    --\n",
    "    {reasoning_chains}   \n",
    "    \"\"\")\n",
    "    ]\n",
    ")\n",
    "\n",
    "\n",
    "promt_example = reasoning_chain_teample.format(\n",
    "    what=\"{what}\",\n",
    "    instruction=\"{instruction}\",\n",
    "    reasoning=\"{reasoning}\",\n",
    "    reasoning_chains=\"{reasoning_chains}\",\n",
    "    examples=reasoning_chain_examples,\n",
    ")\n",
    "print(promt_example)"
   ]
  },
  {
   "cell_type": "markdown",
   "metadata": {},
   "source": []
  },
  {
   "cell_type": "markdown",
   "metadata": {},
   "source": []
  },
  {
   "cell_type": "code",
   "execution_count": 86,
   "metadata": {},
   "outputs": [],
   "source": [
    "llm = ChatUpstage(model=\"solar-pro\")\n",
    "chain = reasoning_chain_teample | llm | StrOutputParser()"
   ]
  },
  {
   "cell_type": "code",
   "execution_count": 87,
   "metadata": {},
   "outputs": [],
   "source": [
    "instruction = \"3.11 vs 3.9 which one is greater?\""
   ]
  },
  {
   "cell_type": "code",
   "execution_count": 88,
   "metadata": {},
   "outputs": [
    {
     "name": "stdout",
     "output_type": "stream",
     "text": [
      "('Reasoning: 1. Define the criteria for the best place to live: Consider '\n",
      " 'factors such as safety, cost of living, climate, job opportunities, '\n",
      " 'education, healthcare, and cultural experiences.\\n'\n",
      " '2. Research and gather data: Use reliable sources like global indices, '\n",
      " 'government reports, and reputable websites to gather information on various '\n",
      " 'locations.\\n'\n",
      " '3. Create a list of potential destinations: Based on the data, identify a '\n",
      " 'few places that score well in most or all of the defined criteria.\\n'\n",
      " '4. Prioritize the criteria: Determine which factors are most important to '\n",
      " 'you and assign weights to each criterion.\\n'\n",
      " '5. Evaluate the potential destinations: Apply the weights to the scores of '\n",
      " 'each location in the defined criteria to calculate an overall score for each '\n",
      " 'place.\\n'\n",
      " '6. Consider personal preferences: Take into account your personal '\n",
      " 'preferences, such as lifestyle, language, and family ties, when evaluating '\n",
      " 'the potential destinations.\\n'\n",
      " '7. Visit the top choices: If possible, visit the top-scoring locations to '\n",
      " 'get a firsthand experience of the places.\\n'\n",
      " '8. Make a decision: Based on the research, evaluation, and personal '\n",
      " 'experiences, choose the best place to live for you.\\n'\n",
      " '\\n'\n",
      " \"Reasoning Chains: [{'step': 1, 'thought': 'Define the criteria for the best \"\n",
      " 'place to live: Consider factors such as safety, cost of living, climate, job '\n",
      " \"opportunities, education, healthcare, and cultural experiences.'}, {'step': \"\n",
      " \"2, 'thought': 'Research and gather data: Use reliable sources like global \"\n",
      " 'indices, government reports, and reputable websites to gather information on '\n",
      " \"various locations.'}, {'step': 3, 'thought': 'Create a list of potential \"\n",
      " 'destinations: Based on the data, identify a few places that score well in '\n",
      " \"most or all of the defined criteria.'}, {'step': 4, 'thought': 'Prioritize \"\n",
      " 'the criteria: Determine which factors are most important to you and assign '\n",
      " \"weights to each criterion.'}, {'step': 5, 'thought': 'Evaluate the potential \"\n",
      " 'destinations: Apply the weights to the scores of each location in the '\n",
      " \"defined criteria to calculate an overall score for each place.'}, {'step': \"\n",
      " \"6, 'thought': 'Consider personal preferences: Take into account your \"\n",
      " 'personal preferences, such as lifestyle, language, and family ties, when '\n",
      " \"evaluating the potential destinations.'}, {'step': 7, 'thought': 'Visit the \"\n",
      " 'top choices: If possible, visit the top-scoring locations to get a firsthand '\n",
      " \"experience of the places.'}, {'step': 8, 'thought': 'Make a decision: Based \"\n",
      " 'on the research, evaluation, and personal experiences, choose the best place '\n",
      " \"to live for you.'}]\")\n"
     ]
    }
   ],
   "source": [
    "reasoning = chain.invoke(\n",
    "    {\n",
    "        \"instruction\": instruction,\n",
    "        \"reasoning\": \"\",\n",
    "        \"reasoning_chains\": \"\",\n",
    "        \"what\": \"reasoning\",\n",
    "        \"examples\": reasoning_chain_examples,\n",
    "    }\n",
    ")\n",
    "\n",
    "pprint(reasoning)"
   ]
  },
  {
   "cell_type": "code",
   "execution_count": 89,
   "metadata": {},
   "outputs": [
    {
     "name": "stdout",
     "output_type": "stream",
     "text": [
      "('Reasoning: 1. Define the criteria for the best place to live on Earth: '\n",
      " 'Consider factors such as safety, cost of living, climate, job opportunities, '\n",
      " 'education, healthcare, and cultural experiences.\\n'\n",
      " '2. Research and gather data: Use reliable sources like global indices, '\n",
      " 'government reports, and reputable websites to gather information on various '\n",
      " 'locations.\\n'\n",
      " '3. Create a list of potential destinations: Based on the data, identify a '\n",
      " 'few places that score well in most or all of the defined criteria.\\n'\n",
      " '4. Prioritize the criteria: Determine which factors are most important to '\n",
      " 'you and assign weights to each criterion.\\n'\n",
      " '5. Evaluate the potential destinations: Apply the weights to the scores of '\n",
      " 'each location in the defined criteria to calculate an overall score for each '\n",
      " 'place.\\n'\n",
      " '6. Consider personal preferences: Take into account your personal '\n",
      " 'preferences, such as lifestyle, language, and family ties, when evaluating '\n",
      " 'the potential destinations.\\n'\n",
      " '7. Visit the top choices: If possible, visit the top-scoring locations to '\n",
      " 'get a firsthand experience of the places.\\n'\n",
      " '8. Make a decision: Based on the research, evaluation, and personal '\n",
      " 'experiences, choose the best place to live on Earth for you.')\n"
     ]
    }
   ],
   "source": [
    "reasoning_chain = chain.invoke(\n",
    "    {\n",
    "        \"instruction\": instruction,\n",
    "        \"reasoning\": f\"Reasoning: {reasoning}\",\n",
    "        \"reasoning_chains\": \"\",\n",
    "        \"what\": \"reasoning chain\",\n",
    "        \"examples\": reasoning_chain_examples,\n",
    "    }\n",
    ")\n",
    "\n",
    "pprint(reasoning_chain)"
   ]
  },
  {
   "cell_type": "code",
   "execution_count": 90,
   "metadata": {},
   "outputs": [
    {
     "name": "stdout",
     "output_type": "stream",
     "text": [
      "('To find the best place to live in the earth, first define the criteria for '\n",
      " 'the best place to live, which could include factors such as safety, cost of '\n",
      " 'living, climate, job opportunities, education, healthcare, and cultural '\n",
      " 'experiences. Then, research and gather data on various locations using '\n",
      " 'reliable sources. Create a list of potential destinations based on the data, '\n",
      " 'prioritize the criteria based on your personal preferences, and evaluate the '\n",
      " 'potential destinations by applying weights to the scores of each location in '\n",
      " 'the defined criteria. Consider your personal preferences, such as lifestyle, '\n",
      " 'language, and family ties, when evaluating the potential destinations. If '\n",
      " 'possible, visit the top-scoring locations to get a firsthand experience of '\n",
      " 'the places. Finally, make a decision based on the research, evaluation, and '\n",
      " 'personal experiences, and choose the best place to live on Earth for you.')\n"
     ]
    }
   ],
   "source": [
    "output = chain.invoke(\n",
    "    {\n",
    "        \"instruction\": instruction,\n",
    "        \"reasoning\": f\"Reasoning: {reasoning}\",\n",
    "        \"reasoning_chains\": f\"Reasoning Chains: {reasoning_chain}\",\n",
    "        \"examples\": reasoning_chain_examples,\n",
    "        \"what\": \"Final answer of the instruction\",\n",
    "    }\n",
    ")\n",
    "\n",
    "pprint(output)"
   ]
  }
 ],
 "metadata": {
  "kernelspec": {
   "display_name": "Python 3 (ipykernel)",
   "language": "python",
   "name": "python3"
  },
  "language_info": {
   "codemirror_mode": {
    "name": "ipython",
    "version": 3
   },
   "file_extension": ".py",
   "mimetype": "text/x-python",
   "name": "python",
   "nbconvert_exporter": "python",
   "pygments_lexer": "ipython3",
   "version": "3.9.6"
  }
 },
 "nbformat": 4,
 "nbformat_minor": 4
}
