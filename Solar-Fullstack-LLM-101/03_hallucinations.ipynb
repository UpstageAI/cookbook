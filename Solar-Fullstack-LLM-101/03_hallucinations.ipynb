{
 "cells": [
  {
   "cell_type": "markdown",
   "metadata": {},
   "source": [
    "<a target=\"_blank\" href=\"https://colab.research.google.com/github/UpstageAI/cookbook/blob/main/Solar-Fullstack-LLM-101/03_hallucinations.ipynb\">\n",
    "<img src=\"https://colab.research.google.com/assets/colab-badge.svg\" alt=\"Open In Colab\"/>\n",
    "</a>"
   ]
  },
  {
   "cell_type": "markdown",
   "metadata": {},
   "source": [
    "# 03. Hallucinations\n",
    "## Overview  \n",
    "In this exercise, we will explore the concept of hallucinations in large language models using the Solar framework. Hallucinations refer to instances where the model generates information that is not based on the input data or is factually incorrect. This notebook will help you understand why hallucinations occur and how to mitigate them to ensure the reliability and accuracy of the model's outputs.\n",
    " \n",
    "## Purpose of the Exercise\n",
    "The purpose of this exercise is to identify and address the issue of hallucinations in language models. By the end of this tutorial, users will be able to recognize hallucinations, understand their causes, and apply strategies to minimize their occurrence, thereby improving the trustworthiness and usability of the Solar LLM.\n"
   ]
  },
  {
   "cell_type": "code",
   "execution_count": 5,
   "metadata": {},
   "outputs": [],
   "source": [
    "! pip3 install -qU langchain-upstage python-dotenv"
   ]
  },
  {
   "cell_type": "code",
   "execution_count": 7,
   "metadata": {},
   "outputs": [],
   "source": [
    "# @title set API key\n",
    "from pprint import pprint\n",
    "import os\n",
    "\n",
    "import warnings\n",
    "\n",
    "warnings.filterwarnings(\"ignore\")\n",
    "\n",
    "from IPython import get_ipython\n",
    "\n",
    "upstage_api_key_env_name = \"UPSTAGE_API_KEY\"\n",
    "\n",
    "\n",
    "def load_env():\n",
    "    if \"google.colab\" in str(get_ipython()):\n",
    "        # Running in Google Colab\n",
    "        from google.colab import userdata\n",
    "\n",
    "        upstage_api_key = userdata.get(upstage_api_key_env_name)\n",
    "        return os.environ.setdefault(\"UPSTAGE_API_KEY\", upstage_api_key)\n",
    "    else:\n",
    "        # Running in local Jupyter Notebook\n",
    "        from dotenv import load_dotenv\n",
    "\n",
    "        load_dotenv()\n",
    "        return os.environ.get(upstage_api_key_env_name)\n",
    "\n",
    "\n",
    "UPSTAGE_API_KEY = load_env()"
   ]
  },
  {
   "cell_type": "code",
   "execution_count": 8,
   "metadata": {},
   "outputs": [
    {
     "data": {
      "text/plain": [
       "'DUS (Distributed Universal Services) is a software platform that is developed from Upstage. Upstage is a cloud-based platform that provides a range of services, including video conferencing, collaboration tools, and communication services. DUS is an extension of Upstage that provides a more comprehensive set of services, including distributed computing, storage, and networking services. DUS is designed to be a flexible and scalable platform that can be used to build and deploy a wide range of applications and services.'"
      ]
     },
     "execution_count": 8,
     "metadata": {},
     "output_type": "execute_result"
    }
   ],
   "source": [
    "from langchain_core.output_parsers import StrOutputParser\n",
    "from langchain_core.prompts import PromptTemplate\n",
    "from langchain_upstage import ChatUpstage\n",
    "\n",
    "llm = ChatUpstage()\n",
    "prompt_template = PromptTemplate.from_template(\n",
    "    \"\"\"\n",
    "Q: What is DUS developed from Upstage?\n",
    "\n",
    "A:\n",
    "\"\"\"\n",
    ")\n",
    "chain = prompt_template | llm | StrOutputParser()\n",
    "chain.invoke({})"
   ]
  },
  {
   "cell_type": "code",
   "execution_count": 19,
   "metadata": {},
   "outputs": [
    {
     "data": {
      "text/plain": [
       "'DUS is a tool developed from Google that allows developers to test and debug their applications. It stands for \"Debugging and Profiling for Android Studio.\" DUS provides a set of features that help developers identify and fix issues in their applications, such as memory leaks, performance bottlenecks, and other issues that can affect the overall quality of the application.\\n\\nDUS was developed by Google as a part of the Android Studio IDE, which is a popular development environment for building Android applications. It is designed to work seamlessly with Android Studio, providing developers with a comprehensive set of tools and features to help them build high-quality applications.\\n\\nOne of the key features of DUS is its ability to provide real-time feedback and insights into the performance of an application. Developers can use DUS to monitor the memory usage, CPU usage, and network activity of their applications, and identify any issues that may be affecting the performance of the application.\\n\\nDUS also provides a range of debugging tools, such as breakpoints, watchpoints, and step-through debugging, which allow developers to identify and fix issues in their code. Additionally, DUS provides a range of profiling tools, such as memory profiling, CPU profiling, and network profiling, which allow developers to identify and optimize the performance of their applications.\\n\\nOverall, DUS is a powerful tool developed by Google that provides developers with a comprehensive set of tools and features to help them build high-quality Android applications.'"
      ]
     },
     "execution_count": 19,
     "metadata": {},
     "output_type": "execute_result"
    }
   ],
   "source": [
    "from langchain_core.output_parsers import StrOutputParser\n",
    "from langchain_core.prompts import PromptTemplate\n",
    "from langchain_upstage import ChatUpstage\n",
    "\n",
    "llm = ChatUpstage()\n",
    "prompt_template = PromptTemplate.from_template(\n",
    "    \"\"\"\n",
    "Q: What is DUS developed from Google?\n",
    "\n",
    "A:\n",
    "\"\"\"\n",
    ")\n",
    "chain = prompt_template | llm | StrOutputParser()\n",
    "chain.invoke({})"
   ]
  },
  {
   "cell_type": "markdown",
   "metadata": {},
   "source": [
    "![hallucination](figures/hallucination.png)"
   ]
  },
  {
   "cell_type": "markdown",
   "metadata": {},
   "source": [
    "## Next Token Prediction\n",
    "They are designed to generate the next words. It's also very difficult to know what we don't know.\n",
    "\n",
    "![](https://jalammar.github.io/images/xlnet/gpt-2-autoregression-2.gif)\n",
    "\n",
    "Image from https://jalammar.github.io/illustrated-gpt2/"
   ]
  },
  {
   "cell_type": "markdown",
   "metadata": {},
   "source": [
    "# Excercise \n",
    "\n",
    "Think of ways to prevent Large Language Models (LLMs) from generating incorrect information."
   ]
  }
 ],
 "metadata": {
  "kernelspec": {
   "display_name": "Python 3 (ipykernel)",
   "language": "python",
   "name": "python3"
  },
  "language_info": {
   "codemirror_mode": {
    "name": "ipython",
    "version": 3
   },
   "file_extension": ".py",
   "mimetype": "text/x-python",
   "name": "python",
   "nbconvert_exporter": "python",
   "pygments_lexer": "ipython3",
   "version": "3.10.10"
  }
 },
 "nbformat": 4,
 "nbformat_minor": 4
}
