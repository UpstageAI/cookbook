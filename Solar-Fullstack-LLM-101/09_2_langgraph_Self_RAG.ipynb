{
  "cells": [
    {
      "cell_type": "markdown",
      "id": "6156e0ed",
      "metadata": {
        "id": "6156e0ed"
      },
      "source": [
        "<a target=\"_blank\" href=\"https://colab.research.google.com/github/UpstageAI/cookbook/blob/main/Solar-Fullstack-LLM-101/09_2_langgraph_Self_RAG.ipynb\">\n",
        "<img src=\"https://colab.research.google.com/assets/colab-badge.svg\" alt=\"Open In Colab\"/>\n",
        "</a>"
      ]
    },
    {
      "cell_type": "markdown",
      "id": "919fe33c-0149-4f7d-b200-544a18986c9a",
      "metadata": {
        "id": "919fe33c-0149-4f7d-b200-544a18986c9a"
      },
      "source": [
        "# Upstage Self-RAG\n",
        "\n",
        "Self-RAG is a strategy for RAG that incorperates [self-reflection / self-grading on retrieved documents and generations](https://blog.langchain.dev/agentic-rag-with-langgraph/). It leverages LLM to make decisions in the answer generation steps, hence improves quality of the final answer.\n",
        "\n",
        "See [Self-RAG: Learning to Retrieve, Generate, and Critique through Self-Reflection](https://arxiv.org/abs/2310.11511) paper for more detailed information.\n",
        "\n",
        "In this example, we will implement some of these ideas. With [Upstage integrations](https://python.langchain.com/docs/integrations/providers/upstage/) and [LangGraph](https://python.langchain.com/docs/langgraph), you can achieve this with just a few additional lines of code. Particularly, it uses Upstage Solar Mini chat model, Embeddings model, Layout Analysis for document understanding and retrieval, and Groundedness Check for verifying the generative model's response.\n",
        "\n",
        "![image.png](attachment:image.png)"
      ]
    },
    {
      "cell_type": "markdown",
      "id": "72f3ee57-68ab-4040-bd36-4014e2a23d96",
      "metadata": {
        "id": "72f3ee57-68ab-4040-bd36-4014e2a23d96"
      },
      "source": [
        "## Environment"
      ]
    },
    {
      "cell_type": "code",
      "execution_count": null,
      "id": "a384cc48-0425-4e8f-aafc-cfb8e56025c9",
      "metadata": {
        "id": "a384cc48-0425-4e8f-aafc-cfb8e56025c9"
      },
      "outputs": [],
      "source": [
        "!pip install -qU langchain-core langchain-upstage langchain-chroma langchain langgraph\n",
        "!pip install -qU python-dotenv"
      ]
    },
    {
      "cell_type": "markdown",
      "id": "15569b93-3c68-4aac-838c-37112d33987a",
      "metadata": {
        "id": "15569b93-3c68-4aac-838c-37112d33987a"
      },
      "source": [
        "### Environment variables\n",
        "\n",
        "Set up environment variables\n",
        "* UPSTAGE_API_KEY\n",
        "\n",
        "Optionally, set these environment variables to use [LangSmith](https://docs.smith.langchain.com/) for tracing (shown at the bottom)\n",
        "\n",
        "```\n",
        "LANGCHAIN_TRACING_V2=true\n",
        "LANGCHAIN_ENDPOINT=https://api.smith.langchain.com\n",
        "LANGCHAIN_API_KEY=YOUR_KEY\n",
        "```"
      ]
    },
    {
      "cell_type": "code",
      "execution_count": 2,
      "id": "f18b63c7-d0d3-41c1-ae6b-5a0f1b8ccf0f",
      "metadata": {
        "id": "f18b63c7-d0d3-41c1-ae6b-5a0f1b8ccf0f",
        "outputId": "3c89d91b-1b7a-4c73-cbab-8f4cc1391866",
        "colab": {
          "base_uri": "https://localhost:8080/"
        }
      },
      "outputs": [
        {
          "name": "stdout",
          "output_type": "stream",
          "text": [
            "Enter your API Key··········\n",
            "Enter your API Key··········\n"
          ]
        }
      ],
      "source": [
        "# @title set API key\n",
        "from pprint import pprint\n",
        "import os\n",
        "import getpass\n",
        "\n",
        "import warnings\n",
        "\n",
        "warnings.filterwarnings(\"ignore\")\n",
        "\n",
        "UPSTAGE_API_KEY = getpass.getpass(\"Enter your API Key\")\n",
        "_ = os.environ.setdefault(\"UPSTAGE_API_KEY\", UPSTAGE_API_KEY)\n",
        "\n",
        "LANGCHAIN_API_KEY = getpass.getpass(\"Enter your API Key\")\n",
        "_ = os.environ.setdefault(\"LANGCHAIN_API_KEY\", LANGCHAIN_API_KEY)"
      ]
    },
    {
      "cell_type": "code",
      "execution_count": 3,
      "id": "8c119b2c-1d07-41a0-95fe-6839754d663f",
      "metadata": {
        "id": "8c119b2c-1d07-41a0-95fe-6839754d663f"
      },
      "outputs": [],
      "source": [
        "# @title set API key\n",
        "from pprint import pprint\n",
        "import os\n",
        "\n",
        "import warnings\n",
        "\n",
        "warnings.filterwarnings(\"ignore\")\n",
        "\n",
        "from IPython import get_ipython\n",
        "\n",
        "upstage_api_key_env_name = \"UPSTAGE_API_KEY\"\n",
        "langchain_api_key_env_name = \"LANGCHAIN_API_KEY\"\n",
        "\n",
        "\n",
        "def load_env():\n",
        "    if \"google.colab\" in str(get_ipython()):\n",
        "        # Running in Google Colab\n",
        "        from google.colab import userdata\n",
        "\n",
        "        upstage_api_key = userdata.get(upstage_api_key_env_name)\n",
        "        langchain_api_key = userdata.get(langchain_api_key_env_name)\n",
        "        return os.environ.setdefault(\n",
        "            \"UPSTAGE_API_KEY\", upstage_api_key\n",
        "        ), os.environ.setdefault(\"LANGCHAIN_API_KEY\", langchain_api_key)\n",
        "    else:\n",
        "        # Running in local Jupyter Notebook\n",
        "        from dotenv import load_dotenv\n",
        "\n",
        "        load_dotenv()\n",
        "        return os.environ.get(upstage_api_key_env_name), os.environ.get(\n",
        "            langchain_api_key_env_name\n",
        "        )\n",
        "\n",
        "\n",
        "UPSTAGE_API_KEY, LANGCHAIN_API_KEY = load_env()"
      ]
    },
    {
      "cell_type": "markdown",
      "id": "2f3b176b",
      "metadata": {
        "id": "2f3b176b"
      },
      "source": [
        "## Retriever\n",
        "\n",
        "### Prepare a file\n",
        "\n",
        "This example will be using `docs/Upstage_Solar_DUS.pdf`. You can optionally add more files to the `docs` directory."
      ]
    },
    {
      "cell_type": "markdown",
      "id": "a91517f9",
      "metadata": {
        "id": "a91517f9"
      },
      "source": [
        "### Layout analysis\n",
        "\n",
        "Prepare a function to use the Upstage [UpstageDocumentParseLoader](https://python.langchain.com/docs/integrations/document_loaders/upstage/) for document processing."
      ]
    },
    {
      "cell_type": "code",
      "execution_count": 11,
      "id": "083493e5",
      "metadata": {
        "id": "083493e5",
        "outputId": "40d87918-1d34-4675-b102-260e8582e587",
        "colab": {
          "base_uri": "https://localhost:8080/"
        }
      },
      "outputs": [
        {
          "output_type": "stream",
          "name": "stdout",
          "text": [
            "number of documents: 188\n",
            "page_content='<h1 id='0' style='font-size:20px'>SOLAR 10.7B: Scaling Large Language Models with Simple yet Effective<br>Depth Up-Scaling</h1>' metadata={'id': 0, 'page': 1, 'category': 'heading1', 'coordinates': [{'x': 0.1194, 'y': 0.0808}, {'x': 0.8793, 'y': 0.0808}, {'x': 0.8793, 'y': 0.1197}, {'x': 0.1194, 'y': 0.1197}]}\n"
          ]
        }
      ],
      "source": [
        "from typing import List\n",
        "from langchain_core.documents import Document\n",
        "from langchain_upstage import UpstageDocumentParseLoader\n",
        "\n",
        "\n",
        "def document_parser(filenames: str) -> List[Document]:\n",
        "    document_parser_loader = UpstageDocumentParseLoader(filenames, split=\"element\")\n",
        "    return document_parser_loader.load()\n",
        "\n",
        "\n",
        "# Add more files if you'd like to.\n",
        "filenames = [\n",
        "    \"pdfs/Upstage_Solar_DUS.pdf\",\n",
        "]\n",
        "\n",
        "docs = document_parser(filenames)\n",
        "print(f\"number of documents: {len(docs)}\")\n",
        "print(docs[0])"
      ]
    },
    {
      "cell_type": "code",
      "source": [
        "print(type(docs[0]))"
      ],
      "metadata": {
        "id": "WDxp7j9t7fst",
        "outputId": "084b522c-1a64-4ee8-c46e-103de412894b",
        "colab": {
          "base_uri": "https://localhost:8080/"
        }
      },
      "id": "WDxp7j9t7fst",
      "execution_count": 20,
      "outputs": [
        {
          "output_type": "stream",
          "name": "stdout",
          "text": [
            "<class 'langchain_core.documents.base.Document'>\n"
          ]
        }
      ]
    },
    {
      "cell_type": "code",
      "source": [
        "docs[170]"
      ],
      "metadata": {
        "id": "iEHds5HH71Mx",
        "outputId": "06bfe001-75c4-4475-ff35-e37c9e9abd63",
        "colab": {
          "base_uri": "https://localhost:8080/"
        }
      },
      "id": "iEHds5HH71Mx",
      "execution_count": 44,
      "outputs": [
        {
          "output_type": "execute_result",
          "data": {
            "text/plain": [
              "Document(metadata={'page': 11, 'id': 10, 'bounding_box': '[{\"x\": 634, \"y\": 462}, {\"x\": 882, \"y\": 462}, {\"x\": 882, \"y\": 490}, {\"x\": 634, \"y\": 490}]', 'category': 'paragraph'}, page_content=\"<p id='10' data-category='paragraph' style='font-size:14px'>B.2 Mixture of Experts</p>\")"
            ]
          },
          "metadata": {},
          "execution_count": 44
        }
      ]
    },
    {
      "cell_type": "markdown",
      "id": "c27bebdc-be71-4130-ab9d-42f09f87658b",
      "metadata": {
        "id": "c27bebdc-be71-4130-ab9d-42f09f87658b"
      },
      "source": [
        "### Indexing\n",
        "\n",
        "Let's index the file."
      ]
    },
    {
      "cell_type": "code",
      "execution_count": 45,
      "id": "565a6d44-2c9f-4fff-b1ec-eea05df9350d",
      "metadata": {
        "id": "565a6d44-2c9f-4fff-b1ec-eea05df9350d",
        "outputId": "e4902b10-f432-4e34-feec-da6fe4b9050a",
        "colab": {
          "base_uri": "https://localhost:8080/"
        }
      },
      "outputs": [
        {
          "output_type": "execute_result",
          "data": {
            "text/plain": [
              "['b0b69a07-b679-42fc-9b80-dc5ae2474c37',\n",
              " '1e16829b-9890-4041-b20e-38cbdebbdd01',\n",
              " '1b37e95e-cfc7-4f12-bd8e-3762e7593c0d',\n",
              " 'a5966b7c-c1a9-404a-b311-6e78b5a5adc8',\n",
              " '6d58fe64-30f5-4c7c-bd0b-321d6daceae1',\n",
              " 'c68a10f6-76cd-4045-a7c6-5ac02a772ab6',\n",
              " '7039ef7f-ab52-4882-b556-f626f9b33521',\n",
              " '6bbb762a-5ee7-463e-bda1-b1fecfa48e4c',\n",
              " '0a3bb34a-7df4-4964-9577-7032c40f4eb6',\n",
              " 'e98ffe2e-0e6f-468e-8cd8-adcb80ad24d8',\n",
              " 'bca8e6f3-d37e-4189-a116-ab8c222037ff',\n",
              " '62857ac3-2d25-41c8-b152-891810a43d32',\n",
              " '3bcdfb66-ea08-4f26-83c0-5a5abf828174',\n",
              " '86200454-09c3-46cd-81fa-883a13498304',\n",
              " 'a9380c3b-e38d-4811-bd6b-2f38cd008b5e',\n",
              " '2ac750a7-98c3-4725-a91c-a2b315d25369',\n",
              " 'd987bce0-80c5-409a-8c13-6ca6c187101d',\n",
              " '082047bb-aa85-40f6-8c69-4fa187f1ac3c',\n",
              " '33449e67-4357-40a8-b2e2-98bf3dac43e8',\n",
              " '3c030f5a-f56e-4301-ad23-9aaa9c8242db',\n",
              " 'b1915d55-438e-4183-ae7d-b6915c3a6ada',\n",
              " '65687031-672e-40ea-b5fa-fac72b51f345',\n",
              " '1a23061a-cb4a-4f01-b201-1f15633baf48',\n",
              " 'f46114eb-0a96-4ae9-b891-a96ca89a729f',\n",
              " '0eb49e55-3360-4a3f-8992-11d8ed1685f5',\n",
              " 'edf65d03-0c2e-455d-991c-5bfb06e9a426',\n",
              " 'fe6fa6a7-f335-4c45-bdb1-6490a141159f',\n",
              " '6c45679d-74fc-4fa8-ac08-f69fd8e2f5f7',\n",
              " 'adaf5559-30c3-481b-9b76-32d70438947c',\n",
              " '2580d76d-258a-407d-b023-8d39fc3792bc',\n",
              " '1065602f-f373-4700-80e7-9fa2d0799447',\n",
              " '495d2207-3d9d-47cb-a36f-a83e0d3f1f00',\n",
              " 'c1678f84-567d-4936-8e0d-df5b9fa0f4af',\n",
              " '8698c6d5-0b9c-41f4-b1bc-bca756097fd6',\n",
              " '9fc70ec5-5dc7-445a-acee-dcbe22ae9b58',\n",
              " '5ceefeea-1085-4ab1-957e-d048bed04469',\n",
              " 'f527dafe-675d-46dc-82fb-92ff6faa1510',\n",
              " '0e1cf51e-235d-4004-824b-ac5e8d271295',\n",
              " 'f9a6eb1a-4fa0-491f-8320-afd87556f567',\n",
              " 'fa2b3e52-fa85-408b-8115-deb3d92b9385',\n",
              " 'df5724b8-6c27-4452-bb15-b4b614ebb3c3',\n",
              " '532f2042-1586-4fcb-833d-01d262b9694c',\n",
              " 'e90e87da-2e02-47f3-862b-a4113cbe2c0a',\n",
              " '89c16613-08c4-4c71-a2cd-de0f19f06d21',\n",
              " '68ad2959-4c81-48bc-8de3-34b3bb2ef042',\n",
              " 'ad4e6ebc-09cd-4494-86d5-7c902f4cc0d1',\n",
              " '19907a85-e99c-4fc3-bf3e-0b056d6284ff',\n",
              " '62812013-405b-4e61-b34c-209f5a94a8a3',\n",
              " '79998fee-3241-4332-b05e-e5c82e4615b0',\n",
              " '7e79e94a-d8a7-42a0-ad17-8e3a3191bdaf',\n",
              " 'b9aa27bc-53e1-4b8b-8d29-e5ba7f9bd4d7',\n",
              " 'f23f2fb5-baaf-4d6b-b77d-f9881d021669',\n",
              " '7fb79851-3b0b-4c41-a5d9-b9df24d16a20',\n",
              " '62dd3c40-d64c-4688-ad7f-e5071de87f36',\n",
              " '1fb6bd03-590f-474a-9d82-d15f21c17034',\n",
              " '7e4e36a3-1077-4262-b0a1-34721056f4d4',\n",
              " '450ed9a7-7beb-4836-a161-67bde70f52ac',\n",
              " 'e476ea7e-ecf2-4fdc-bb10-05737e29cf04',\n",
              " 'f5ff0057-3d73-4929-98ed-750a4ef2889c',\n",
              " 'e5c179de-4d84-42c1-ae20-c51b9b32559b',\n",
              " '098aa268-0591-404a-86d3-e5f3b4955cfe',\n",
              " '063f337e-185f-40c1-bbb9-166c890a4e99',\n",
              " 'ace3b737-65e1-4818-9c1b-fdd5418011d6',\n",
              " '6234b8b7-5f44-489f-9e91-3883280f171d',\n",
              " '5d2ee12d-8c04-4fa8-adf3-49cae07b3905',\n",
              " 'e35b148a-3ecc-47e0-b4e8-78c03d35cec7',\n",
              " 'c7cadbe0-1946-4a7e-a960-83976717dd0f',\n",
              " 'eb8b44f0-6bb2-475a-b0a0-7f4a7c6f0070',\n",
              " 'b748b20b-6b9e-4b69-b71e-2adc02a7491f',\n",
              " '50c1f858-b892-4ffa-8d25-76a03d3211e6',\n",
              " '042b1336-3f9e-4de4-bb39-81a4d6fa62f5',\n",
              " '8cfaea45-17d8-4ae8-82e2-b01d7d3639be',\n",
              " 'b955f4e1-d7ef-4d55-98b5-00dd5184dc42',\n",
              " 'b48b03f4-12e0-49f3-ade6-11ff411e4de3',\n",
              " 'd9fab8c9-4d30-4d4e-8047-3c65f8ca988c',\n",
              " '495f132c-04f2-4bf4-bfe8-f63cd9038308',\n",
              " '0e14faf8-7670-4cc6-a7ac-0d1243909e13',\n",
              " 'f100f00c-39a0-42f2-8367-8c5c69c77ebd',\n",
              " '8856d41a-af96-45ad-8734-5f1cdb66a564',\n",
              " '7a6d1d22-0ca6-4eed-b8f6-e8b659f5bea1',\n",
              " '2113282a-d856-4e73-89e7-62030ae68f91',\n",
              " '6d682586-8611-4f49-82be-e06593404a33',\n",
              " 'e3ee4be5-2b74-44b2-92a5-f3292b743982',\n",
              " '05ff4931-976f-4c31-bccc-beb477020c51',\n",
              " 'aec4953c-2138-4a87-8b3a-60f76904afe4',\n",
              " '3c8e4294-a93d-4f4d-9ac3-ec31e7631262',\n",
              " '6cef9aac-798d-48f9-a0d9-7e65a1600202',\n",
              " 'd4185443-2b01-4442-8c47-79c44a108c61',\n",
              " 'b456b694-e8df-4450-8e82-ee4fb3bd2083',\n",
              " 'df2ebef6-0976-4704-ab31-fbf836527912',\n",
              " 'be9afa4c-d12f-4410-922b-83f53c6e1f32',\n",
              " '2079bc74-9e94-41b1-825d-7cd5c0acc9c3',\n",
              " '290ffa2e-f86e-4cae-b3e0-6b7a78c04f78',\n",
              " '25a4d26e-821f-4e34-bf95-a8e4f897fd30',\n",
              " '6eb2d845-358a-41db-a798-9dce5b58cd06',\n",
              " '48b30f5d-837a-4bec-a1c8-67d8820acb10',\n",
              " 'f6c3153c-1b41-4e2f-b644-96b6099bbd7f',\n",
              " 'b239ac5b-db22-4be9-88b4-01bf00ba452e',\n",
              " 'a5213500-a4bf-4372-b59f-368c7e7a36a9',\n",
              " 'acfb3929-40b3-48ed-853e-3c0273949c9a',\n",
              " '8f6d6b8f-dfdd-4c48-9fa1-6f5748685023',\n",
              " '872af1ec-f8ff-4c69-8d0e-9bb07f765e78',\n",
              " 'cb5c158c-84ab-4fea-8516-f9a0e0e89bf4',\n",
              " '39725127-8ca0-4a17-bd93-38c07713cedb',\n",
              " 'b9b923c4-8709-4a6e-9f8e-272e0ce8c188',\n",
              " 'ad9ae737-4e97-461f-8091-bb6715380f8d',\n",
              " 'ad3b4a89-9f5e-4b71-8ab4-2f6e58ad2626',\n",
              " '29ab4ef5-c8fd-4c4b-ac6d-033f650b4b9e',\n",
              " '82232b1f-20ca-4956-89c4-cd8afcc8d79e',\n",
              " 'c89f3088-1f51-47ac-a5b1-d119bf52af2a',\n",
              " '41fa8aec-7eeb-4956-9212-7d6b702e79e1',\n",
              " 'e24f15da-3e04-4f41-8685-e32c859d7134',\n",
              " '5326ea12-f56d-4ef5-8d47-5fd12e64d434',\n",
              " 'f4012606-36ad-4428-841a-936c44ecb782',\n",
              " 'b80160cf-90e6-4da9-bd3f-06d956d67602',\n",
              " 'fc315e67-1a3d-4a65-8909-cc08b6fd1b2d',\n",
              " '595a1003-67f6-4e20-ad96-3eb3ca76ae95',\n",
              " 'f6c30bdd-6d05-4f8b-9e7e-cc9d1a969835',\n",
              " 'c9b341f8-624c-4193-ace2-4b6fd3ab10c9',\n",
              " '2e4b8fac-cc5e-482b-b5bb-994453880fcb',\n",
              " 'fcecee0f-3fc4-4ac3-811f-21325643ac29',\n",
              " 'd5111989-2c8a-4897-9f1e-2d604d1d8b29',\n",
              " 'ed8865d8-273c-44ae-a903-ec090740a952',\n",
              " 'a57a38e4-383c-4f38-a847-751afd3cba97',\n",
              " 'afd6c745-87c0-4fb7-a5f8-afc8406fc2e5',\n",
              " '41747ec1-77de-4cac-ab48-61189574cfd1',\n",
              " '96532beb-f722-477a-b41d-b8330d4ce062',\n",
              " 'ef19044e-dc83-41c1-88ea-2936f54242f8',\n",
              " 'd77381c8-f713-4627-874a-b4ccdba3141b',\n",
              " '765d1b5f-879e-444c-84af-e51c139537fb',\n",
              " '70b72d99-20c5-4bf8-a3e5-697e7351e943',\n",
              " 'c38b9344-b40d-4a14-868b-1dc9fe274376',\n",
              " '82cee1e0-d04c-40ba-bf06-76d157493ce2',\n",
              " '8d42b48b-c545-4c58-8e02-590688d37aa5',\n",
              " '974d0c5c-23c8-4d2b-8ea2-b127a88396f6',\n",
              " '56a254f9-f47c-4108-9d32-1a814e4f48e4',\n",
              " 'f693722e-bb2f-469e-a4a4-0f6d861c999a',\n",
              " '414c8915-d680-4d91-b1a0-aa2181dcf40d',\n",
              " '677e71f6-8bbb-4be4-9e33-601f7ac217f9',\n",
              " '3deffa13-f781-4754-abb0-293be07fc217',\n",
              " '17b1ad9d-7d20-43eb-8516-e5ee27cdc08c',\n",
              " '8bf6a0ba-b71d-4b6e-a341-c81b561cbbd9',\n",
              " '3c70257e-2804-4b65-b828-d37a0d62fe2e',\n",
              " '784eaad9-f288-4a31-9d7e-381ec5386a59',\n",
              " '422f377f-8f00-4f03-a65f-4db7384deddc',\n",
              " 'fa53cfc0-a3e8-47e7-8eb8-b4abfff89831',\n",
              " 'bb2c43cc-0127-4287-ba34-7a91b123616f',\n",
              " 'eade1de1-94e1-4c12-9033-67fe67806501',\n",
              " '9dde2c71-c329-4ad6-a011-6911c3e81e52',\n",
              " '83fcd212-625b-4b5c-8821-ec9e5fdbf184',\n",
              " 'b1551b3d-1564-422f-b9c2-eb8ae866bd46',\n",
              " 'ef3ff7cf-03ab-4575-ad06-d0c854aa01c7',\n",
              " '364897de-bb45-4826-88e2-06edf232d639',\n",
              " 'adb27974-0aaa-4395-b63e-cdfa5ce4a826',\n",
              " 'baac96d0-021f-4227-85c9-c00405cb402c',\n",
              " '2cf9c218-4397-48be-8872-e5d2d78701ba',\n",
              " '0b8333a3-511e-48cb-98a6-34869e70016d',\n",
              " '66450e1c-257c-46ae-b053-84a007475357',\n",
              " 'a35cb1ef-3ed1-4f0d-86d8-ff089028e296',\n",
              " 'f9fd71cc-b4bd-4f6c-b436-953bbd382afc',\n",
              " '37747596-2dd6-4b99-a9ac-6426ca040424',\n",
              " '6bd52899-027e-416a-a3c9-1f732f79bc30',\n",
              " '486ae60f-5046-4732-8da6-a98985788339',\n",
              " 'b66db9f5-eed1-48a2-a0f9-099250811339',\n",
              " '3f020fa8-8e6e-401a-8eb7-b403dc4b9f7b',\n",
              " '79415279-81e3-4b4e-b7c3-12cd44d250c5',\n",
              " '18632ceb-6351-459c-b2e0-966c67d982b8',\n",
              " '50ef59c2-025c-434f-b445-d59ac14caf9c',\n",
              " 'b1287b18-0bfc-4193-bbe4-93417f0a0d82',\n",
              " 'd6693806-f001-487b-8ef1-896d2bbac2d5',\n",
              " '0e5f434b-5b30-4fda-9469-d30af17a892c',\n",
              " '680624fa-a0c6-45bf-9cbb-797fcd207dd8',\n",
              " '6ec12fc1-0687-4f8a-8606-61cdea4a378e',\n",
              " 'ec475c0d-03df-493b-a14f-727e382e92da',\n",
              " '79ddf21f-6b77-4ef0-99ef-cbb719951adc',\n",
              " '7f80c004-e880-4f1a-a99c-d308d4c160ec',\n",
              " 'c2e69736-c7e6-449e-8694-2f986eb53236',\n",
              " '96026b5e-7196-4f3a-85ca-46992e3feeb4',\n",
              " '757198c5-9c14-465d-a337-fac8841d35eb',\n",
              " 'b883b009-85fc-4a20-80c7-3f868f19888b',\n",
              " '297a92f9-5f69-4836-a69c-e4b2b764cb0d',\n",
              " 'd1ea0bcf-f61e-43fc-bd28-6fbd3cae8666',\n",
              " '6522dd57-de14-41d5-b567-06771fca6778',\n",
              " '6bf03423-c6ff-45e5-8875-eeca1df1833e',\n",
              " '88a8fda5-e30e-4d0f-817f-3226ead0f51f',\n",
              " 'ead411c5-66d1-47a4-9e19-24e8d99d9c08',\n",
              " '636f27d0-2db7-454d-bdf1-03104033f936',\n",
              " '24ef54a9-7cb3-4d8b-b7b9-4f8a7189d0ac',\n",
              " 'ada3b09f-4fb2-4c94-b6b1-2b9ddc4f34f2',\n",
              " '88c7037a-365f-4929-b0e3-f24a56a8c9ab',\n",
              " '9af63788-0dd0-4639-a854-0b97797c8ae5',\n",
              " 'a9e2578f-c95d-42a1-9bae-94516a126177',\n",
              " 'a3ffbae7-847b-435e-abe2-ff33b036443f',\n",
              " '5a3627bf-3ae3-477d-8bb8-ddc84200e054',\n",
              " '425f0456-b9f4-4ee8-8b8d-27a63bec9535',\n",
              " 'd2c76c15-1a13-48ab-9562-9b2ad834dbd6']"
            ]
          },
          "metadata": {},
          "execution_count": 45
        }
      ],
      "source": [
        "from langchain_chroma import Chroma\n",
        "from langchain_upstage import ChatUpstage, UpstageEmbeddings\n",
        "from langchain_core.vectorstores import VectorStore\n",
        "\n",
        "#Converts complex metadata values into JSON strings\n",
        "def convert_complex_metadata(metadata):\n",
        "    for key, value in metadata.items():\n",
        "        if isinstance(value, list):\n",
        "            metadata[key] = str(value)\n",
        "    return metadata\n",
        "\n",
        "# Process complex metadata in the list of documents\n",
        "for doc in docs:\n",
        "    doc.metadata = convert_complex_metadata(doc.metadata)\n",
        "\n",
        "\n",
        "db: VectorStore = Chroma(\n",
        "    embedding_function=UpstageEmbeddings(model=\"solar-embedding-1-large\")\n",
        ")\n",
        "\n",
        "\n",
        "retriever = db.as_retriever()\n",
        "\n",
        "db.add_documents(docs)"
      ]
    },
    {
      "cell_type": "markdown",
      "id": "4515a2fa",
      "metadata": {
        "id": "4515a2fa"
      },
      "source": [
        "## Graph State\n",
        "Let's first define the LangGraph state."
      ]
    },
    {
      "cell_type": "code",
      "execution_count": 46,
      "id": "0cd0f18d",
      "metadata": {
        "id": "0cd0f18d"
      },
      "outputs": [],
      "source": [
        "from typing import TypedDict\n",
        "\n",
        "\n",
        "class RagState(TypedDict):\n",
        "    \"\"\"\n",
        "    Represents the state of our graph.\n",
        "\n",
        "    Attributes:\n",
        "        context: retrieved context\n",
        "        question: question asked by the user\n",
        "        answer: generated answer to the question\n",
        "        groundedness: groundedness of the assistant's response\n",
        "    \"\"\"\n",
        "\n",
        "    context: str\n",
        "    question: str\n",
        "    answer: str\n",
        "    groundedness: str"
      ]
    },
    {
      "cell_type": "markdown",
      "id": "29c12f74-53e2-43cc-896f-875d1c5d9d93",
      "metadata": {
        "id": "29c12f74-53e2-43cc-896f-875d1c5d9d93"
      },
      "source": [
        "## RAG\n",
        "\n",
        "Let's prepare RAG pipeline. It uses the Upstage [Solar chat model](https://python.langchain.com/docs/integrations/chat/upstage/)."
      ]
    },
    {
      "cell_type": "code",
      "execution_count": 47,
      "id": "1fafad21-60cc-483e-92a3-6a7edb1838e3",
      "metadata": {
        "id": "1fafad21-60cc-483e-92a3-6a7edb1838e3"
      },
      "outputs": [],
      "source": [
        "from langchain_core.output_parsers import StrOutputParser\n",
        "from langchain.prompts import ChatPromptTemplate\n",
        "\n",
        "\n",
        "template = \"\"\"Answer the question based only on the given context.\n",
        "{context}\n",
        "\n",
        "Question: {question}\n",
        "\"\"\"\n",
        "\n",
        "prompt = ChatPromptTemplate.from_template(template)\n",
        "model = ChatUpstage(model=\"solar-pro\")\n",
        "\n",
        "# Solar model answer generation, given the context and question\n",
        "model_chain = prompt | model | StrOutputParser()\n",
        "\n",
        "\n",
        "def format_documents(docs: List[Document]) -> str:\n",
        "    return \"\\n\".join([doc.page_content for doc in docs])\n",
        "\n",
        "\n",
        "def retrieve(state: RagState) -> RagState:\n",
        "    docs = retriever.invoke(state[\"question\"])\n",
        "    context = format_documents(docs)\n",
        "    return RagState(context=context)\n",
        "\n",
        "\n",
        "def model_answer(state: RagState) -> RagState:\n",
        "    response = model_chain.invoke(state)\n",
        "    return RagState(answer=response)"
      ]
    },
    {
      "cell_type": "markdown",
      "id": "5a15cc11",
      "metadata": {
        "id": "5a15cc11"
      },
      "source": [
        "Now, let's prepare a logic for using Upstage [Groundedness Check](https://python.langchain.com/docs/integrations/tools/upstage_groundedness_check/)."
      ]
    },
    {
      "cell_type": "code",
      "execution_count": 48,
      "id": "41bd25eb",
      "metadata": {
        "id": "41bd25eb"
      },
      "outputs": [],
      "source": [
        "from langchain_upstage import GroundednessCheck\n",
        "\n",
        "gc = GroundednessCheck()\n",
        "\n",
        "\n",
        "def groundedness_check(state: RagState) -> RagState:\n",
        "    response = gc.run({\"context\": state[\"context\"], \"answer\": state[\"answer\"]})\n",
        "    return RagState(groundedness=response)\n",
        "\n",
        "\n",
        "def groundedness_condition(state: RagState) -> RagState:\n",
        "    return state[\"groundedness\"]"
      ]
    },
    {
      "cell_type": "markdown",
      "id": "61cd5797-1782-4d78-a277-8196d13f3e1b",
      "metadata": {
        "id": "61cd5797-1782-4d78-a277-8196d13f3e1b"
      },
      "source": [
        "## Build Graph\n",
        "\n",
        "Finally, let's put everything together and build the graph! The graph looks like the following.\n",
        "\n",
        "![image.png](attachment:image.png)"
      ]
    },
    {
      "cell_type": "code",
      "execution_count": 49,
      "id": "0e09ca9f-e36d-4ef4-a0d5-79fdbada9fe0",
      "metadata": {
        "id": "0e09ca9f-e36d-4ef4-a0d5-79fdbada9fe0"
      },
      "outputs": [],
      "source": [
        "from langgraph.graph import END, StateGraph\n",
        "\n",
        "workflow = StateGraph(RagState)\n",
        "workflow.add_node(\"retrieve\", retrieve)\n",
        "workflow.add_node(\"model\", model_answer)\n",
        "workflow.add_node(\"groundedness_check\", groundedness_check)\n",
        "\n",
        "workflow.add_edge(\"retrieve\", \"model\")\n",
        "workflow.add_edge(\"model\", \"groundedness_check\")\n",
        "workflow.add_conditional_edges(\n",
        "    \"groundedness_check\",\n",
        "    groundedness_condition,\n",
        "    {\n",
        "        \"grounded\": END,\n",
        "        \"notGrounded\": \"model\",\n",
        "        \"notSure\": \"model\",\n",
        "    },\n",
        ")\n",
        "workflow.set_entry_point(\"retrieve\")\n",
        "\n",
        "app = workflow.compile()"
      ]
    },
    {
      "cell_type": "markdown",
      "id": "86b7c942",
      "metadata": {
        "id": "86b7c942"
      },
      "source": [
        "## Running the graph\n",
        "\n",
        "Let's now test the graph."
      ]
    },
    {
      "cell_type": "code",
      "execution_count": 50,
      "id": "fb69dbb9-91ee-4868-8c3c-93af3cd885be",
      "metadata": {
        "id": "fb69dbb9-91ee-4868-8c3c-93af3cd885be",
        "outputId": "7c0ec050-6097-49fc-e389-ff29444b7928",
        "colab": {
          "base_uri": "https://localhost:8080/"
        }
      },
      "outputs": [
        {
          "output_type": "stream",
          "name": "stdout",
          "text": [
            "Node 'retrieve':{'context': \"<br><p id='94' data-category='paragraph' style='font-size:16px'>Additionally, we ensure that SOLAR complies<br>with general ethical considerations in all aspects<br>of its operation. This includes adherence to pri-<br>vacy norms, respect for intellectual property, and<br>ensuring the absence of bias in our algorithms. Our<br>commitment to these ethical principles is unwaver-<br>ing, and we believe it significantly contributes to<br>the credibility and societal acceptance of SOLAR.</p>\\n<br><p id='94' data-category='paragraph' style='font-size:16px'>Additionally, we ensure that SOLAR complies<br>with general ethical considerations in all aspects<br>of its operation. This includes adherence to pri-<br>vacy norms, respect for intellectual property, and<br>ensuring the absence of bias in our algorithms. Our<br>commitment to these ethical principles is unwaver-<br>ing, and we believe it significantly contributes to<br>the credibility and societal acceptance of SOLAR.</p>\\n<br><p id='94' data-category='paragraph' style='font-size:16px'>Additionally, we ensure that SOLAR complies<br>with general ethical considerations in all aspects<br>of its operation. This includes adherence to pri-<br>vacy norms, respect for intellectual property, and<br>ensuring the absence of bias in our algorithms. Our<br>commitment to these ethical principles is unwaver-<br>ing, and we believe it significantly contributes to<br>the credibility and societal acceptance of SOLAR.</p>\\n<br><p id='95' data-category='paragraph' style='font-size:16px'>In conclusion, the ethical framework within<br>which SOLAR operates is robust and comprehen-<br>sive, ensuring that our advancements in this field<br>are not only scientifically sound but also ethically<br>responsible.</p>\"}\n",
            "\n",
            "---\n",
            "\n",
            "Node 'model':{'answer': \"Based on the given context, Solar is a system or entity that operates in a field that requires algorithms and complies with general ethical considerations in all aspects of its operation. Its ethical framework includes adherence to privacy norms, respect for intellectual property, and ensuring the absence of bias in its algorithms. The context does not provide further details about Solar's specific nature or the field it operates in.\"}\n",
            "\n",
            "---\n",
            "\n",
            "Node 'groundedness_check':{'groundedness': 'grounded'}\n",
            "\n",
            "---\n",
            "\n"
          ]
        }
      ],
      "source": [
        "inputs = {\"question\": \"What is Solar?\"}\n",
        "for output in app.stream(inputs):\n",
        "    for key, value in output.items():\n",
        "        print(f\"Node '{key}':{value}\")\n",
        "    print(\"\\n---\\n\")"
      ]
    },
    {
      "cell_type": "markdown",
      "id": "548f1c5b-4108-4aae-8abb-ec171b511b92",
      "metadata": {
        "id": "548f1c5b-4108-4aae-8abb-ec171b511b92"
      },
      "source": [
        "LangSmith Traces -\n",
        "\n",
        "* https://smith.langchain.com/public/5ce3f275-b93b-48d1-a718-88139ae2e00b/r"
      ]
    }
  ],
  "metadata": {
    "kernelspec": {
      "display_name": "Python 3 (ipykernel)",
      "language": "python",
      "name": "python3"
    },
    "language_info": {
      "codemirror_mode": {
        "name": "ipython",
        "version": 3
      },
      "file_extension": ".py",
      "mimetype": "text/x-python",
      "name": "python",
      "nbconvert_exporter": "python",
      "pygments_lexer": "ipython3",
      "version": "3.10.13"
    },
    "colab": {
      "provenance": []
    }
  },
  "nbformat": 4,
  "nbformat_minor": 5
}