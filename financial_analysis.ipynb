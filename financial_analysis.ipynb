{
 "cells": [
  {
   "cell_type": "markdown",
   "metadata": {
    "colab_type": "text",
    "id": "view-in-github"
   },
   "source": [
    "<a href=\"https://colab.research.google.com/github/UpstageAI/cookbook/blob/main/cookbooks/upstage/financial_analysis.ipynb\" target=\"_parent\"><img src=\"https://colab.research.google.com/assets/colab-badge.svg\" alt=\"Open In Colab\"/></a>"
   ]
  },
  {
   "cell_type": "code",
   "execution_count": null,
   "metadata": {
    "collapsed": true,
    "id": "BB8xwlCWuQum"
   },
   "outputs": [],
   "source": [
    "# @title Install requirements\n",
    "!pip install langchain\n",
    "!pip install langchain-chroma\n",
    "!pip install langchain_upstage\n",
    "!pip install -q python-dotenv"
   ]
  },
  {
   "cell_type": "markdown",
   "metadata": {
    "id": "RUK-8mJWLB1E"
   },
   "source": [
    "# Introduction\n",
    "## Financial Analysis over 10-K documents\n",
    "In the world of finance, extracting critical insights from lengthy documents like 10-K forms is an essential but often time-consuming task for analysts. The 10-K form is an annual report required by the U.S. Securities and Exchange Commission (SEC), which provides a comprehensive summary of a company's financial performance. These documents can run hundreds of pages and are filled with complex, domain-specific terminology. To address this challenge, we showcase how Upstage, combined with LangChain and Chroma, can assist financial analysts in quickly extracting and synthesizing insights from a document with minimal coding effort.\n",
    "\n",
    "This cookbook focuses on Prompt Engineering for Financial Contexts, specifically tailored to extract and analyze financial information from 10-K documents using Upstage, LangChain, and Chroma."
   ]
  },
  {
   "cell_type": "code",
   "execution_count": null,
   "metadata": {
    "id": "2S-lAzZshiIv"
   },
   "outputs": [],
   "source": [
    "# @title 0. Set API key\n",
    "from pprint import pprint\n",
    "import os\n",
    "\n",
    "import warnings\n",
    "\n",
    "warnings.filterwarnings(\"ignore\")\n",
    "\n",
    "from IPython import get_ipython\n",
    "\n",
    "upstage_api_key_env_name = \"UPSTAGE_API_KEY\"\n",
    "\n",
    "\n",
    "def load_env():\n",
    "    if \"google.colab\" in str(get_ipython()):\n",
    "        # Running in Google Colab\n",
    "        from google.colab import userdata\n",
    "\n",
    "        upstage_api_key = userdata.get(upstage_api_key_env_name)\n",
    "        return os.environ.setdefault(\"UPSTAGE_API_KEY\", upstage_api_key)\n",
    "    else:\n",
    "        # Running in local Jupyter Notebook\n",
    "        from dotenv import load_dotenv\n",
    "\n",
    "        load_dotenv()\n",
    "        return os.environ.get(upstage_api_key_env_name)\n",
    "\n",
    "\n",
    "UPSTAGE_API_KEY = load_env()"
   ]
  },
  {
   "cell_type": "markdown",
   "metadata": {
    "id": "Z4t3ThJlLYRS"
   },
   "source": [
    "## 1. Extract data from Document & Split\n",
    "The first step in our process involves loading the 10-K document and splitting it into manageable chunks of text.\n",
    "\n",
    "For extracting text from the document we will be using [Upstage Layout Analysis API](https://developers.upstage.ai/docs/apis/layout-analysis). Upstage Layout Analysis API automatically categorizes data into meaningful chunks and marks non-text elements like images and tables for easy identification. This approach significantly streamlines data extraction tasks."
   ]
  },
  {
   "cell_type": "code",
   "execution_count": 3,
   "metadata": {
    "id": "9iGbcvgB3h_7"
   },
   "outputs": [],
   "source": [
    "from langchain.text_splitter import RecursiveCharacterTextSplitter, Language\n",
    "from langchain_upstage import UpstageLayoutAnalysisLoader\n",
    "from langchain_chroma import Chroma\n",
    "from langchain_upstage import UpstageEmbeddings"
   ]
  },
  {
   "cell_type": "code",
   "execution_count": 4,
   "metadata": {
    "id": "BKM-g4n94dUv"
   },
   "outputs": [],
   "source": [
    "# check if text is in the vector store\n",
    "def is_in_vectorstore(vectorstore, text):\n",
    "    search_results = vectorstore.get(ids=[text])\n",
    "    if search_results and search_results[\"ids\"]:\n",
    "        return True\n",
    "    else:\n",
    "        return False"
   ]
  },
  {
   "cell_type": "code",
   "execution_count": 6,
   "metadata": {
    "id": "ONRZg1Yw4dOJ"
   },
   "outputs": [],
   "source": [
    "file_path = \"c3_k-10.pdf\"  # Any company's K-10 document\n",
    "\n",
    "loader = UpstageLayoutAnalysisLoader(file_path, split=\"page\", api_key=UPSTAGE_API_KEY)\n",
    "\n",
    "# For improved memory efficiency, consider using the lazy_load method to load documents page by page.\n",
    "docs = loader.load()  # or loader.lazy_load()"
   ]
  },
  {
   "cell_type": "code",
   "execution_count": null,
   "metadata": {
    "colab": {
     "base_uri": "https://localhost:8080/"
    },
    "id": "jP2k2trd7VcU",
    "outputId": "7dc8a8d4-f893-42d3-ddad-327ae7db8d30"
   },
   "outputs": [
    {
     "name": "stdout",
     "output_type": "stream",
     "text": [
      "<h1 id='1' style='font-size:20px'>UNITED STATES<br>SECURITIES AND EXCHANGE COMMISSION<br>Washington, D.C. 20549<br>FORM 10-K</h1> <br><p id='2' data-category='paragraph' style='font-size:14px'>(Mark One)</p> <br><p id='3' data-category='paragraph' style='font-size:14px'>☒ ANNUAL REPORT PURSUANT TO SECTION 13 OR 15(d) OF THE SECURITIES EXCHANGE ACT OF 1934<br>For the fiscal year ended April 30, 2022</p> <p id='4' data-category='paragraph' style='font-size:14px'>OR</p> <p id='5' data-category='paragraph' style='font-size:14px'>☐ TRANSITION REPORT PURSUANT TO SECTION 13 OR 15(d) OF THE SECURITIES EXCHANGE ACT OF 1934</p> <br><p id='6' data-category='paragraph' style='font-size:14px'>For the transition period from __________ to __________<br>Commission File Number: 001-39744</p> <br><p id='7' data-category='paragraph' style='font-size:16px'>C3.ai, Inc.<br>(Exact name of registrant as specified in its charter)</p> <p id='8' data-category='paragraph' style='font-size:14px'>Delaware<br>(State\n"
     ]
    }
   ],
   "source": [
    "print(docs[0].page_content[:1000])"
   ]
  },
  {
   "cell_type": "code",
   "execution_count": 7,
   "metadata": {
    "colab": {
     "base_uri": "https://localhost:8080/"
    },
    "id": "4tel2vCA4oLO",
    "outputId": "bc1af1ad-bf86-4ff3-defb-c88fbd3ea34c"
   },
   "outputs": [
    {
     "name": "stdout",
     "output_type": "stream",
     "text": [
      "Splits: 1001\n"
     ]
    }
   ],
   "source": [
    "# 2. Split\n",
    "text_splitter = RecursiveCharacterTextSplitter.from_language(\n",
    "    chunk_size=1000, chunk_overlap=100, language=Language.HTML\n",
    ")\n",
    "splits = text_splitter.split_documents(docs)\n",
    "print(\"Splits:\", len(splits))"
   ]
  },
  {
   "cell_type": "markdown",
   "metadata": {
    "id": "gx9aeCE4Lk4Y"
   },
   "source": [
    "## 2. Store in a Vector Data Base - Chroma\n",
    "Once the document is split, the next step is to store these chunks in a vector database. We’ll use Chroma to create a vector store and Upstage for generating embeddings.\n",
    "\n"
   ]
  },
  {
   "cell_type": "code",
   "execution_count": 8,
   "metadata": {
    "colab": {
     "base_uri": "https://localhost:8080/"
    },
    "id": "O6Zs2vUf4oDn",
    "outputId": "352e2ccd-6cb1-413e-b3bd-3fd0d4d2ea74"
   },
   "outputs": [
    {
     "name": "stdout",
     "output_type": "stream",
     "text": [
      "1001\n"
     ]
    }
   ],
   "source": [
    "vectorstore = Chroma(\n",
    "    persist_directory=\"./chroma_db\",\n",
    "    embedding_function=UpstageEmbeddings(\n",
    "        model=\"solar-embedding-1-large\", upstage_api_key=UPSTAGE_API_KEY\n",
    "    ),\n",
    ")\n",
    "retriever = vectorstore.as_retriever()\n",
    "\n",
    "\n",
    "unique_splits = [\n",
    "    split for split in splits if not is_in_vectorstore(vectorstore, split.page_content)\n",
    "]\n",
    "print(len(unique_splits))"
   ]
  },
  {
   "cell_type": "code",
   "execution_count": 9,
   "metadata": {
    "id": "S-gCm67d4n4p"
   },
   "outputs": [],
   "source": [
    "import hashlib\n",
    "\n",
    "\n",
    "def generate_unique_id(content, index):\n",
    "    return hashlib.md5(f\"{index}-{content}\".encode()).hexdigest()\n",
    "\n",
    "\n",
    "if len(unique_splits) > 0:\n",
    "    vectorstore = Chroma.from_documents(\n",
    "        ids=[\n",
    "            generate_unique_id(split.page_content, i)\n",
    "            for i, split in enumerate(unique_splits)\n",
    "        ],\n",
    "        persist_directory=\"./chroma_db\",\n",
    "        documents=unique_splits,\n",
    "        embedding=UpstageEmbeddings(\n",
    "            model=\"solar-embedding-1-large\", upstage_api_key=UPSTAGE_API_KEY\n",
    "        ),\n",
    "    )"
   ]
  },
  {
   "cell_type": "markdown",
   "metadata": {
    "id": "b98cU3CwkHYO"
   },
   "source": [
    "# 3. Develop and Test Financial-Specific Prompts\n",
    "\n",
    "Identify the key financial metrics and sections you want to extract from the 10-K documents."
   ]
  },
  {
   "cell_type": "code",
   "execution_count": 10,
   "metadata": {
    "id": "XncALt7oeUsB"
   },
   "outputs": [],
   "source": [
    "# Define financial information categories\n",
    "financial_categories = {\n",
    "    \"Interest Rate Risk\": [\n",
    "        \"Summarize the company's exposure to interest rate risks.\",\n",
    "        \"What is mentioned about the company's strategy for mitigating interest rate risks?\",\n",
    "        \"Extract details on how interest rate fluctuations have impacted the company's financial performance.\",\n",
    "    ],\n",
    "    \"Liquidity Ratios\": [\n",
    "        \"Provide the liquidity ratios mentioned in the document.\",\n",
    "        \"Explain how the company's current liquidity is evaluated.\",\n",
    "        \"List the ratios used to assess the company's liquidity.\",\n",
    "    ],\n",
    "    \"Credit Risk\": [\n",
    "        \"Describe the company's exposure to credit risk.\",\n",
    "        \"What measures has the company taken to mitigate credit risk?\",\n",
    "        \"Detail the impact of credit risk on the company's financial health.\",\n",
    "    ],\n",
    "    \"Market Risk\": [\n",
    "        \"Outline the market risks the company is exposed to.\",\n",
    "        \"How does the company manage market risk?\",\n",
    "        \"Discuss the effects of market risk on the company's operations.\",\n",
    "    ],\n",
    "}"
   ]
  },
  {
   "cell_type": "code",
   "execution_count": 11,
   "metadata": {
    "id": "qTfWD99perem"
   },
   "outputs": [],
   "source": [
    "from langchain_core.prompts import PromptTemplate\n",
    "from langchain_core.output_parsers import StrOutputParser\n",
    "from langchain_upstage import ChatUpstage\n",
    "\n",
    "llm = ChatUpstage(api_key=UPSTAGE_API_KEY)"
   ]
  },
  {
   "cell_type": "code",
   "execution_count": 12,
   "metadata": {
    "id": "PuOLZ6CWesvr"
   },
   "outputs": [],
   "source": [
    "def generate_responses(category, prompts, context):\n",
    "    responses = {}\n",
    "    for i, prompt in enumerate(prompts, 1):\n",
    "        prompt_template = PromptTemplate.from_template(\n",
    "            \"\"\"\n",
    "            Generate the requested information based on the following context.\n",
    "            ---\n",
    "            Context: {Context}\n",
    "            \"\"\"\n",
    "        )\n",
    "        chain = prompt_template | llm | StrOutputParser()\n",
    "        response = chain.invoke({\"Context\": context, \"prompt\": prompt})\n",
    "        responses[f\"Prompt_{i}\"] = response\n",
    "    return responses"
   ]
  },
  {
   "cell_type": "code",
   "execution_count": 13,
   "metadata": {
    "id": "TeD3ZDdKevHw"
   },
   "outputs": [],
   "source": [
    "from bs4 import BeautifulSoup\n",
    "\n",
    "\n",
    "# Function to retrieve relevant documents based on a query\n",
    "def retrieve_documents(query, retriever, top_k=5):\n",
    "    search_result = retriever.invoke(query, top_k=top_k)\n",
    "    extracted_texts = []\n",
    "    for search in search_result:\n",
    "        soup = BeautifulSoup(search.page_content, \"html.parser\")\n",
    "        text = soup.get_text(separator=\"\\n\")\n",
    "        extracted_texts.append(text)\n",
    "    return extracted_texts"
   ]
  },
  {
   "cell_type": "code",
   "execution_count": 26,
   "metadata": {
    "colab": {
     "base_uri": "https://localhost:8080/"
    },
    "id": "AJvXF5yIex9k",
    "outputId": "28ccc222-51ce-48b0-fc6d-baf8111bde54"
   },
   "outputs": [
    {
     "name": "stdout",
     "output_type": "stream",
     "text": [
      "\n",
      "===========================================\n",
      "| Processing Category: 'Interest Rate Risk' |\n",
      "===========================================\n",
      "Prompt_1: Based on the context provided, the company is exposed to market risks in the ordinary course of its business, primarily due to fluctuations in interest rates and foreign currency exchange rates. The company does not hold or issue financial instruments for trading purposes and does not use derivative financial instruments to manage its interest rate risk exposure. As of April 30, 2022, a hypothetical 10% relative change in interest rates would not have had a material impact on the value of the company's cash equivalents or investment portfolio. The company may face exposure to foreign currency exchange rate fluctuations, and it may manage this risk in the future if its exposure to foreign currencies becomes more significant. The company does not have any significant exposure to inflation risk.\n",
      "----------------------------------------------------------------------------------------------------\n",
      "Prompt_2: The context provided discusses the market risks faced by the company in the ordinary course of its business. The main market risks are exposure to interest rate fluctuations and foreign currency exchange rate fluctuations. The company does not hold or issue financial instruments for trading purposes and does not use derivative financial instruments to manage its interest rate risk exposure. As of April 30, 2022, a hypothetical 10% relative change in interest rates would not have had a material impact on the value of the company's cash equivalents or investment portfolio.\n",
      "\n",
      "The company also mentions that it may face exposure to foreign currency exchange rate fluctuations as its international operations grow. The company will continue to reassess its approach to managing its risk relating to fluctuations in currency rates.\n",
      "\n",
      "The context also mentions inflation risk, but it does not provide any specific information about the company's exposure to inflation risk.\n",
      "----------------------------------------------------------------------------------------------------\n",
      "Prompt_3: The context discusses the market risks faced by the company, including interest rate risk and foreign currency risk. The company does not hold or issue financial instruments for trading purposes and does not use derivative financial instruments to manage its interest rate risk exposure. As of April 30, 2022, a hypothetical 10% relative change in interest rates would not have had a material impact on the value of the company's cash equivalents or investment portfolio. The company may face exposure to foreign currency exchange rate fluctuations, and it will continue to reassess its approach to manage this risk as its international operations grow. The context also mentions inflation risk, but it does not provide specific details about the company's exposure to inflation risk.\n",
      "----------------------------------------------------------------------------------------------------\n",
      "\n",
      "===========================================\n",
      "| Processing Category: 'Liquidity Ratios' |\n",
      "===========================================\n",
      "Prompt_1: The Company considers all highly liquid investments with an original maturity of three months or less at the time of purchase to be cash equivalents. The Company’s cash equivalents consisted of investments in money market funds as of April 30, 2022 and 2021. The Company had restricted cash pledged as security deposits at April 30, 2022 and 2021 of $12.6 million and $0.9 million, respectively, primarily representing a security deposit required by certain leases. The balance of restricted cash as of April 30, 2022 and 2021 was recorded as long-term other assets on the consolidated balance sheets.\n",
      "----------------------------------------------------------------------------------------------------\n",
      "Prompt_2: Cash and Cash Equivalents:\n",
      "\n",
      "The Company considers all highly liquid investments with an original maturity of three months or less at the time of purchase to be cash equivalents. The Company’s cash equivalents consisted of investments in money market funds as of April 30, 2022 and 2021.\n",
      "\n",
      "Restricted Cash:\n",
      "\n",
      "The Company had restricted cash pledged as security deposits at April 30, 2022 and 2021 of $12.6 million and $0.9 million, respectively, primarily representing a security deposit required by certain leases. The balance of restricted cash as of April 30, 2022 and 2021 was recorded as long-term other assets on the consolidated balance sheets.\n",
      "\n",
      "Concentration of Credit Risk:\n",
      "\n",
      "Financial instruments that potentially subject the Company to concentration of credit risk consist of cash and cash equivalents, investments and accounts receivable. The majority of the Company’s cash and cash equivalents are held by one financial institution. The Company is exposed to that financial institution to the extent that its cash balance with that financial institution is in excess of Federal Deposit Insurance Company (“FDIC”) insurance limits. The Company’s investment policy is to invest in securities with a minimum rating of P-2 by Moody’s, A-2 by Standard & Poor’s, F2 by Fitch’s or higher for short-term investments, and minimum rating of BBB by Moody’s, Standard & Poor’s, Fitch’s or higher for long-term investments.\n",
      "\n",
      "Free Cash Flow:\n",
      "\n",
      "The Company believes free cash flow, a non-GAAP financial measure, is useful in evaluating liquidity and provides information to management and investors about the Company’s ability to fund future operating needs and strategic initiatives. The Company calculates free cash flow as net cash used in operating activities less purchases of property and equipment and capitalized software development costs. Free cash flow has limitations as an analytical tool, and it should not be considered in isolation or as a substitute for analysis of other GAAP financial measures, such as net cash used in operating activities. This non-GAAP financial measure may be different.\n",
      "----------------------------------------------------------------------------------------------------\n",
      "Prompt_3: In the given context, the following information is provided:\n",
      "\n",
      "1. The Company considers all highly liquid investments with an original maturity of three months or less at the time of purchase to be cash equivalents. The Company’s cash equivalents consisted of investments in money market funds as of April 30, 2022 and 2021.\n",
      "2. The Company had restricted cash pledged as security deposits at April 30, 2022 and 2021 of $12.6 million and $0.9 million, respectively, primarily representing a security deposit required by certain leases. The balance of restricted cash as of April 30, 2022 and 2021 was recorded as long-term other assets on the consolidated balance sheets.\n",
      "3. The Company’s financial instruments that potentially subject it to concentration of credit risk consist of cash and cash equivalents, investments, and accounts receivable. The majority of the Company’s cash and cash equivalents are held by one financial institution. The Company’s investment policy is to invest in securities with a minimum rating of P-2 by Moody’s, A-2 by Standard & Poor’s, F2 by Fitch’s or higher for short-term investments, and minimum rating of BBB by Moody’s, Standard & Poor’s, Fitch’s or higher for long-term investments.\n",
      "4. The Company’s cash and cash equivalents and restricted cash are reported on the consolidated balance sheets.\n",
      "5. The Company calculates free cash flow as net cash used in operating activities less purchases of property and equipment and capitalized software development costs. Free cash flow has limitations as an analytical tool and should not be considered in isolation or as a substitute for analysis of other GAAP financial measures.\n",
      "6. The Company’s cash flows from operating, investing, and financing activities are reported in the consolidated statements of cash flows.\n",
      "7. The Company’s accounts receivable, prepaid expenses, other current assets, accounts payable, accrued compensation and employee benefits, operating lease liabilities, other liabilities, and deferred revenue are reported on the consolidated balance sheets.\n",
      "8. The Company’s net cash used in operating activities was $(86,462) for the year ended April 30, 2022, $(37,553) for the year ended April 30, 2021, and $(61,281) for the year ended April 30, 2020.\n",
      "9. The Company’s purchases of property and equipment were $(3,791) for the year ended April 30, 2022, $(1,628) for the year ended April 30, 2021, and $(2,298) for the year ended April 30, 2020.\n",
      "----------------------------------------------------------------------------------------------------\n",
      "\n",
      "===========================================\n",
      "| Processing Category: 'Credit Risk' |\n",
      "===========================================\n",
      "Prompt_1: The context provided discusses various risks associated with the company's financial instruments, market risks, and business operations. The company's financial instruments that potentially subject it to concentration of credit risk include cash and cash equivalents, investments, and accounts receivable. The majority of the company's cash and cash equivalents are held by one financial institution, and the company is exposed to that financial institution to the extent that its cash balance with that financial institution is in excess of Federal Deposit Insurance Company (\"FDIC\") insurance limits. The company's investment policy is to invest in securities with a minimum rating of P-2 by Moody's, A-2 by Standard & Poor's, F2 by Fitch's or higher for short-term investments, and minimum rating of BBB by Moody's, Standard & Poor's, Fitch's or higher for long-term investments.\n",
      "\n",
      "The company is also exposed to market risks in the ordinary course of its business, primarily the result of fluctuations in interest rates and foreign currency exchange rates. The company does not hold or issue financial instruments for trading purposes.\n",
      "\n",
      "Investing in the company's Class A common stock involves numerous risks, including the risks described under \"Risk Factors\" in Part I, Item 1A of this Annual Report on Form 10-K. Some of the risks and uncertainties as of the date of the filing of this Annual Report on Form 10-K that could materially adversely affect the company's business, financial condition, operating results, and prospects include risks related to the company's business and industry.\n",
      "----------------------------------------------------------------------------------------------------\n",
      "Prompt_2: The context provided discusses the Company's exposure to market risks, specifically in the areas of credit risk, interest rate risk, and foreign currency exchange rates. The Company's financial instruments that potentially subject it to credit risk include cash and cash equivalents, investments, and accounts receivable. The majority of the Company's cash and cash equivalents are held by one financial institution, which exposes the Company to that financial institution to the extent that its cash balance with that financial institution is in excess of Federal Deposit Insurance Company (FDIC) insurance limits. The Company's investment policy is to invest in securities with a minimum rating of P-2 by Moody's, A-2 by Standard & Poor's, F2 by Fitch's or higher for short-term investments, and minimum rating of BBB by Moody's, Standard & Poor's, Fitch's or higher for long-term investments.\n",
      "\n",
      "The Company is also exposed to interest rate risk, which represents the risk of loss that may impact its financial position due to adverse changes in financial market prices and rates. The Company does not hold or issue financial instruments for trading purposes.\n",
      "\n",
      "Additionally, the context mentions that the Company operates in an industry with various risks, and investing in the Company's Class A common stock involves numerous risks, including the risks described under \"Risk Factors\" in Part I, Item 1A of the Annual Report on Form 10-K. The context provides a summary of some of the risks and uncertainties as of the date of the filing of the Annual Report on Form 10-K, any one of which could materially adversely affect the Company's business, financial condition, operating results, and prospects.\n",
      "----------------------------------------------------------------------------------------------------\n",
      "Prompt_3: The context provided discusses various financial risks faced by a company, including credit risk, market risk, and interest rate risk. The company's exposure to credit risk is primarily due to the concentration of its cash and cash equivalents with one financial institution, which may exceed FDIC insurance limits. The company's investment policy is to invest in securities with a minimum rating of P-2 by Moody's, A-2 by Standard & Poor's, F2 by Fitch's or higher for short-term investments, and minimum rating of BBB by Moody's, Standard & Poor's, Fitch's or higher for long-term investments.\n",
      "\n",
      "The company is also exposed to market risks in the ordinary course of its business, primarily due to fluctuations in interest rates and foreign currency exchange rates. The company does not hold or issue financial instruments for trading purposes.\n",
      "\n",
      "Investing in the company's Class A common stock involves numerous risks, including the risks described under \"Risk Factors\" in Part I, Item 1A of its Annual Report on Form 10-K. Some of the risks and uncertainties faced by the company include risks related to its business and industry, such as competition, regulatory changes, and economic conditions.\n",
      "----------------------------------------------------------------------------------------------------\n",
      "\n",
      "===========================================\n",
      "| Processing Category: 'Market Risk' |\n",
      "===========================================\n",
      "Prompt_1: The context discusses the market risks faced by a company in the ordinary course of its business. The company is exposed to risks related to fluctuations in interest rates and foreign currency exchange rates. The company does not hold or issue financial instruments for trading purposes.\n",
      "\n",
      "The company is also exposed to inflation risk, which represents the risk of loss due to adverse changes in financial market prices and rates. However, the company has not taken any specific measures to manage this risk, but may do so in the future if its exposure to foreign currencies becomes more significant. The company will continue to reassess its approach to manage its risk relating to fluctuations in currency rates as its international operations grow.\n",
      "\n",
      "The context also mentions that the company's market risk exposure is primarily the result of fluctuations in interest rates and foreign currency exchange rates. The company does not hold or issue financial instruments for trading purposes. The company is exposed to market risks due to general political and economic conditions and slow or negative growth of its markets, as well as technical factors in the public trading market for its stock.\n",
      "----------------------------------------------------------------------------------------------------\n",
      "Prompt_2: The context provided discusses market risks faced by a company in the ordinary course of its business, primarily fluctuations in interest rates and foreign currency exchange rates. The company does not hold or issue financial instruments for trading purposes. The company is exposed to interest rate risk, but it does not currently hedge its interest rate exposure. However, the company may consider hedging in the future if its exposure to foreign currencies becomes more significant. The company also mentions that as its international operations grow, it will reassess its approach to managing its risk relating to fluctuations in currency rates. The company does not provide any information about its inflation risk.\n",
      "----------------------------------------------------------------------------------------------------\n",
      "Prompt_3: The company is exposed to market risks in the ordinary course of its business, primarily due to fluctuations in interest rates and foreign currency exchange rates. The company does not hold or issue financial instruments for trading purposes. The company is also subject to interest rate risk, which may impact its financial position due to adverse changes in financial market prices and rates. The company may hedge its exposure to foreign currencies in the future if its exposure becomes more significant. The company is also subject to inflation risk, which may impact its financial position due to adverse changes in economic conditions.\n",
      "----------------------------------------------------------------------------------------------------\n"
     ]
    }
   ],
   "source": [
    "# Store all responses\n",
    "all_responses = {}\n",
    "\n",
    "for category, prompts in financial_categories.items():\n",
    "    print(\"\\n\" + \"=\" * 43)  # Divider\n",
    "    print(f\"| Processing Category: '{category}' |\")\n",
    "    print(\"=\" * 43)  # Divider\n",
    "\n",
    "    # Retrieve relevant documents for the category\n",
    "    query = f\"Tell me about {category.lower()}\"\n",
    "    context = retrieve_documents(query, retriever)\n",
    "\n",
    "    # Generate responses for each prompt in the category\n",
    "    responses = generate_responses(category, prompts, context)\n",
    "    all_responses[category] = responses\n",
    "\n",
    "    # Display responses\n",
    "    for prompt_name, response in responses.items():\n",
    "        print(f\"{prompt_name}: {response}\")\n",
    "        print(\"-\" * 100)  # Divider"
   ]
  }
 ],
 "metadata": {
  "colab": {
   "include_colab_link": true,
   "provenance": []
  },
  "kernelspec": {
   "display_name": "Python 3",
   "name": "python3"
  },
  "language_info": {
   "name": "python"
  }
 },
 "nbformat": 4,
 "nbformat_minor": 0
}
